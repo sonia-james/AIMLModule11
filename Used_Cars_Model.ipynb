{
  "cells": [
    {
      "cell_type": "markdown",
      "metadata": {
        "id": "9UlRsjEA2LwJ"
      },
      "source": [
        "# What drives the price of a car?\n",
        "\n",
        "![](images/kurt.jpeg)"
      ]
    },
    {
      "cell_type": "markdown",
      "metadata": {
        "id": "c-V9pqmt2LwK"
      },
      "source": [
        "**OVERVIEW**\n",
        "\n",
        "In this application, you will explore a dataset from Kaggle. The original dataset contained information on 3 million used cars. The provided dataset contains information on 426K cars to ensure speed of processing.  Your goal is to understand what factors make a car more or less expensive.  As a result of your analysis, you should provide clear recommendations to your client -- a used car dealership -- as to what consumers value in a used car."
      ]
    },
    {
      "cell_type": "markdown",
      "metadata": {
        "id": "0SZ7hWnX2LwK"
      },
      "source": [
        "### CRISP-DM Framework\n",
        "\n",
        "<center>\n",
        "    <img src = images/crisp.png width = 50%/>\n",
        "</center>\n",
        "\n",
        "\n",
        "To frame the task, throughout our practical applications, we will refer back to a standard process in industry for data projects called CRISP-DM.  This process provides a framework for working through a data problem.  Your first step in this application will be to read through a brief overview of CRISP-DM [here](https://mo-pcco.s3.us-east-1.amazonaws.com/BH-PCMLAI/module_11/readings_starter.zip).  After reading the overview, answer the questions below."
      ]
    },
    {
      "cell_type": "markdown",
      "metadata": {
        "id": "pqMZXm822LwL"
      },
      "source": [
        "### Business Understanding\n",
        "\n",
        "From a business perspective, we are tasked with identifying key drivers for used car prices.  In the CRISP-DM overview, we are asked to convert this business framing to a data problem definition.  Using a few sentences, reframe the task as a data task with the appropriate technical vocabulary."
      ]
    },
    {
      "cell_type": "markdown",
      "source": [
        "# Objective :\n",
        "The objective of this project is to develop a predictive model that can accurately estimate the price of used cars based on various features such as car make, model, year of manufacture, mileage, condition, and other relevant attributes. The model will be built using supervised machine learning algorithms, and performance will be evaluated using cross-validation to ensure generalizability and avoid overfitting.\n",
        "\n",
        "# Key Steps :\n",
        "\n",
        "*  Data Preprocessing and Exploration\n",
        "    *  Explore data\n",
        "    *  Clean the dataset\n",
        "    *  Remove duplicates\n",
        "    *  Handle missing data\n",
        "    *  Check for outliers\n",
        "    *  Handle ordinal and categorized data\n",
        "    *  Scale data\n",
        "*  Model Selection:\n",
        "    *  Evaluate models such as Linear Regression, Ridge regression\n",
        "*  Cross-Validation\n",
        "    *  With the test data evaluate the performance of the model\n",
        "*  Evaluation\n",
        "    * Provide insights on the factors that allows maximizing the price for the used cars\n",
        "\n",
        "\n",
        "\n"
      ],
      "metadata": {
        "id": "NS80xJjG7J9T"
      }
    },
    {
      "cell_type": "markdown",
      "metadata": {
        "id": "ghtkcLzi2LwL"
      },
      "source": [
        "### Data Understanding\n",
        "\n",
        "After considering the business understanding, we want to get familiar with our data.  Write down some steps that you would take to get to know the dataset and identify any quality issues within.  Take time to get to know the dataset and explore what information it contains and how this could be used to inform your business understanding."
      ]
    },
    {
      "cell_type": "markdown",
      "source": [
        "# Objectives :\n",
        "Analyze the data for missing values. \\\n",
        "Analyze the data for outliers. \\\n",
        "Remove unwanted columns. \\\n",
        "Convert the fields to appropriate types. \\\n",
        "\n",
        "We have following observations on the data\n",
        "*   VIN and ID columns are unique and does not help with analyzing prize\n",
        "*   Price varies from 0 -3736928711\n",
        "*   Odometer varies from 0 to 10000000.0\n",
        "*   Size column has too many null : 306361\n",
        "\n",
        "\n",
        "\n",
        "# Analyzing data in detail :"
      ],
      "metadata": {
        "id": "_TLW8ARO8EQ7"
      }
    },
    {
      "cell_type": "code",
      "source": [
        "!pip install category_encoders"
      ],
      "metadata": {
        "colab": {
          "base_uri": "https://localhost:8080/"
        },
        "id": "GPUXNDp6R2uy",
        "outputId": "13fc05a7-9e39-46d6-e8cb-f838626b5c85"
      },
      "execution_count": 2,
      "outputs": [
        {
          "output_type": "stream",
          "name": "stdout",
          "text": [
            "Requirement already satisfied: category_encoders in /usr/local/lib/python3.11/dist-packages (2.8.0)\n",
            "Requirement already satisfied: numpy>=1.14.0 in /usr/local/lib/python3.11/dist-packages (from category_encoders) (1.26.4)\n",
            "Requirement already satisfied: pandas>=1.0.5 in /usr/local/lib/python3.11/dist-packages (from category_encoders) (2.2.2)\n",
            "Requirement already satisfied: patsy>=0.5.1 in /usr/local/lib/python3.11/dist-packages (from category_encoders) (1.0.1)\n",
            "Requirement already satisfied: scikit-learn>=1.6.0 in /usr/local/lib/python3.11/dist-packages (from category_encoders) (1.6.1)\n",
            "Requirement already satisfied: scipy>=1.0.0 in /usr/local/lib/python3.11/dist-packages (from category_encoders) (1.13.1)\n",
            "Requirement already satisfied: statsmodels>=0.9.0 in /usr/local/lib/python3.11/dist-packages (from category_encoders) (0.14.4)\n",
            "Requirement already satisfied: python-dateutil>=2.8.2 in /usr/local/lib/python3.11/dist-packages (from pandas>=1.0.5->category_encoders) (2.8.2)\n",
            "Requirement already satisfied: pytz>=2020.1 in /usr/local/lib/python3.11/dist-packages (from pandas>=1.0.5->category_encoders) (2025.1)\n",
            "Requirement already satisfied: tzdata>=2022.7 in /usr/local/lib/python3.11/dist-packages (from pandas>=1.0.5->category_encoders) (2025.1)\n",
            "Requirement already satisfied: joblib>=1.2.0 in /usr/local/lib/python3.11/dist-packages (from scikit-learn>=1.6.0->category_encoders) (1.4.2)\n",
            "Requirement already satisfied: threadpoolctl>=3.1.0 in /usr/local/lib/python3.11/dist-packages (from scikit-learn>=1.6.0->category_encoders) (3.5.0)\n",
            "Requirement already satisfied: packaging>=21.3 in /usr/local/lib/python3.11/dist-packages (from statsmodels>=0.9.0->category_encoders) (24.2)\n",
            "Requirement already satisfied: six>=1.5 in /usr/local/lib/python3.11/dist-packages (from python-dateutil>=2.8.2->pandas>=1.0.5->category_encoders) (1.17.0)\n"
          ]
        }
      ]
    },
    {
      "cell_type": "code",
      "source": [
        "import pandas as pd\n",
        "import matplotlib.pyplot as plt\n",
        "import seaborn as sns\n",
        "import numpy as np\n",
        "import re\n",
        "import category_encoders as ce\n",
        "from sklearn.model_selection import train_test_split,GridSearchCV\n",
        "from sklearn.impute import KNNImputer\n",
        "from sklearn.preprocessing import OneHotEncoder, LabelEncoder\n",
        "from sklearn.preprocessing import StandardScaler\n",
        "from sklearn import linear_model\n",
        "from sklearn.metrics import mean_squared_error,r2_score\n",
        "from sklearn.pipeline import Pipeline\n",
        "from sklearn.preprocessing import PolynomialFeatures, StandardScaler\n",
        "from sklearn.linear_model import Ridge, LinearRegression\n",
        "\n",
        "\n",
        "\n"
      ],
      "metadata": {
        "id": "Qxk5KlvQ_xCM"
      },
      "execution_count": 3,
      "outputs": []
    },
    {
      "cell_type": "code",
      "source": [
        "# Read the data set\n",
        "usedCars = pd.read_csv('data/vehicles.csv')\n"
      ],
      "metadata": {
        "id": "KLeOcc5Y5L-L"
      },
      "execution_count": 4,
      "outputs": []
    },
    {
      "cell_type": "code",
      "source": [
        "# Take a first look at the data with info() describe() and  head() methods\n",
        "usedCars.info()"
      ],
      "metadata": {
        "colab": {
          "base_uri": "https://localhost:8080/"
        },
        "id": "i_YyCXpa5Pb8",
        "outputId": "e7dde9b0-1fbc-4e08-e4ba-181885ebbc64"
      },
      "execution_count": 5,
      "outputs": [
        {
          "output_type": "stream",
          "name": "stdout",
          "text": [
            "<class 'pandas.core.frame.DataFrame'>\n",
            "RangeIndex: 426880 entries, 0 to 426879\n",
            "Data columns (total 18 columns):\n",
            " #   Column        Non-Null Count   Dtype  \n",
            "---  ------        --------------   -----  \n",
            " 0   id            426880 non-null  int64  \n",
            " 1   region        426880 non-null  object \n",
            " 2   price         426880 non-null  int64  \n",
            " 3   year          425675 non-null  float64\n",
            " 4   manufacturer  409234 non-null  object \n",
            " 5   model         421603 non-null  object \n",
            " 6   condition     252776 non-null  object \n",
            " 7   cylinders     249202 non-null  object \n",
            " 8   fuel          423867 non-null  object \n",
            " 9   odometer      422480 non-null  float64\n",
            " 10  title_status  418638 non-null  object \n",
            " 11  transmission  424324 non-null  object \n",
            " 12  VIN           265838 non-null  object \n",
            " 13  drive         296313 non-null  object \n",
            " 14  size          120519 non-null  object \n",
            " 15  type          334022 non-null  object \n",
            " 16  paint_color   296677 non-null  object \n",
            " 17  state         426880 non-null  object \n",
            "dtypes: float64(2), int64(2), object(14)\n",
            "memory usage: 58.6+ MB\n"
          ]
        }
      ]
    },
    {
      "cell_type": "code",
      "source": [
        "usedCars.describe()"
      ],
      "metadata": {
        "colab": {
          "base_uri": "https://localhost:8080/",
          "height": 291
        },
        "id": "6AW4LeUB5h0_",
        "outputId": "a3fcbd01-2750-4191-c259-b55222d8f5ad"
      },
      "execution_count": 6,
      "outputs": [
        {
          "output_type": "execute_result",
          "data": {
            "text/plain": [
              "                 id         price           year      odometer\n",
              "count  4.268800e+05  4.268800e+05  425675.000000  4.224800e+05\n",
              "mean   7.311487e+09  7.519903e+04    2011.235191  9.804333e+04\n",
              "std    4.473170e+06  1.218228e+07       9.452120  2.138815e+05\n",
              "min    7.207408e+09  0.000000e+00    1900.000000  0.000000e+00\n",
              "25%    7.308143e+09  5.900000e+03    2008.000000  3.770400e+04\n",
              "50%    7.312621e+09  1.395000e+04    2013.000000  8.554800e+04\n",
              "75%    7.315254e+09  2.648575e+04    2017.000000  1.335425e+05\n",
              "max    7.317101e+09  3.736929e+09    2022.000000  1.000000e+07"
            ],
            "text/html": [
              "\n",
              "  <div id=\"df-e1736b2b-8efa-4dab-b696-43c6161cf9e3\" class=\"colab-df-container\">\n",
              "    <div>\n",
              "<style scoped>\n",
              "    .dataframe tbody tr th:only-of-type {\n",
              "        vertical-align: middle;\n",
              "    }\n",
              "\n",
              "    .dataframe tbody tr th {\n",
              "        vertical-align: top;\n",
              "    }\n",
              "\n",
              "    .dataframe thead th {\n",
              "        text-align: right;\n",
              "    }\n",
              "</style>\n",
              "<table border=\"1\" class=\"dataframe\">\n",
              "  <thead>\n",
              "    <tr style=\"text-align: right;\">\n",
              "      <th></th>\n",
              "      <th>id</th>\n",
              "      <th>price</th>\n",
              "      <th>year</th>\n",
              "      <th>odometer</th>\n",
              "    </tr>\n",
              "  </thead>\n",
              "  <tbody>\n",
              "    <tr>\n",
              "      <th>count</th>\n",
              "      <td>4.268800e+05</td>\n",
              "      <td>4.268800e+05</td>\n",
              "      <td>425675.000000</td>\n",
              "      <td>4.224800e+05</td>\n",
              "    </tr>\n",
              "    <tr>\n",
              "      <th>mean</th>\n",
              "      <td>7.311487e+09</td>\n",
              "      <td>7.519903e+04</td>\n",
              "      <td>2011.235191</td>\n",
              "      <td>9.804333e+04</td>\n",
              "    </tr>\n",
              "    <tr>\n",
              "      <th>std</th>\n",
              "      <td>4.473170e+06</td>\n",
              "      <td>1.218228e+07</td>\n",
              "      <td>9.452120</td>\n",
              "      <td>2.138815e+05</td>\n",
              "    </tr>\n",
              "    <tr>\n",
              "      <th>min</th>\n",
              "      <td>7.207408e+09</td>\n",
              "      <td>0.000000e+00</td>\n",
              "      <td>1900.000000</td>\n",
              "      <td>0.000000e+00</td>\n",
              "    </tr>\n",
              "    <tr>\n",
              "      <th>25%</th>\n",
              "      <td>7.308143e+09</td>\n",
              "      <td>5.900000e+03</td>\n",
              "      <td>2008.000000</td>\n",
              "      <td>3.770400e+04</td>\n",
              "    </tr>\n",
              "    <tr>\n",
              "      <th>50%</th>\n",
              "      <td>7.312621e+09</td>\n",
              "      <td>1.395000e+04</td>\n",
              "      <td>2013.000000</td>\n",
              "      <td>8.554800e+04</td>\n",
              "    </tr>\n",
              "    <tr>\n",
              "      <th>75%</th>\n",
              "      <td>7.315254e+09</td>\n",
              "      <td>2.648575e+04</td>\n",
              "      <td>2017.000000</td>\n",
              "      <td>1.335425e+05</td>\n",
              "    </tr>\n",
              "    <tr>\n",
              "      <th>max</th>\n",
              "      <td>7.317101e+09</td>\n",
              "      <td>3.736929e+09</td>\n",
              "      <td>2022.000000</td>\n",
              "      <td>1.000000e+07</td>\n",
              "    </tr>\n",
              "  </tbody>\n",
              "</table>\n",
              "</div>\n",
              "    <div class=\"colab-df-buttons\">\n",
              "\n",
              "  <div class=\"colab-df-container\">\n",
              "    <button class=\"colab-df-convert\" onclick=\"convertToInteractive('df-e1736b2b-8efa-4dab-b696-43c6161cf9e3')\"\n",
              "            title=\"Convert this dataframe to an interactive table.\"\n",
              "            style=\"display:none;\">\n",
              "\n",
              "  <svg xmlns=\"http://www.w3.org/2000/svg\" height=\"24px\" viewBox=\"0 -960 960 960\">\n",
              "    <path d=\"M120-120v-720h720v720H120Zm60-500h600v-160H180v160Zm220 220h160v-160H400v160Zm0 220h160v-160H400v160ZM180-400h160v-160H180v160Zm440 0h160v-160H620v160ZM180-180h160v-160H180v160Zm440 0h160v-160H620v160Z\"/>\n",
              "  </svg>\n",
              "    </button>\n",
              "\n",
              "  <style>\n",
              "    .colab-df-container {\n",
              "      display:flex;\n",
              "      gap: 12px;\n",
              "    }\n",
              "\n",
              "    .colab-df-convert {\n",
              "      background-color: #E8F0FE;\n",
              "      border: none;\n",
              "      border-radius: 50%;\n",
              "      cursor: pointer;\n",
              "      display: none;\n",
              "      fill: #1967D2;\n",
              "      height: 32px;\n",
              "      padding: 0 0 0 0;\n",
              "      width: 32px;\n",
              "    }\n",
              "\n",
              "    .colab-df-convert:hover {\n",
              "      background-color: #E2EBFA;\n",
              "      box-shadow: 0px 1px 2px rgba(60, 64, 67, 0.3), 0px 1px 3px 1px rgba(60, 64, 67, 0.15);\n",
              "      fill: #174EA6;\n",
              "    }\n",
              "\n",
              "    .colab-df-buttons div {\n",
              "      margin-bottom: 4px;\n",
              "    }\n",
              "\n",
              "    [theme=dark] .colab-df-convert {\n",
              "      background-color: #3B4455;\n",
              "      fill: #D2E3FC;\n",
              "    }\n",
              "\n",
              "    [theme=dark] .colab-df-convert:hover {\n",
              "      background-color: #434B5C;\n",
              "      box-shadow: 0px 1px 3px 1px rgba(0, 0, 0, 0.15);\n",
              "      filter: drop-shadow(0px 1px 2px rgba(0, 0, 0, 0.3));\n",
              "      fill: #FFFFFF;\n",
              "    }\n",
              "  </style>\n",
              "\n",
              "    <script>\n",
              "      const buttonEl =\n",
              "        document.querySelector('#df-e1736b2b-8efa-4dab-b696-43c6161cf9e3 button.colab-df-convert');\n",
              "      buttonEl.style.display =\n",
              "        google.colab.kernel.accessAllowed ? 'block' : 'none';\n",
              "\n",
              "      async function convertToInteractive(key) {\n",
              "        const element = document.querySelector('#df-e1736b2b-8efa-4dab-b696-43c6161cf9e3');\n",
              "        const dataTable =\n",
              "          await google.colab.kernel.invokeFunction('convertToInteractive',\n",
              "                                                    [key], {});\n",
              "        if (!dataTable) return;\n",
              "\n",
              "        const docLinkHtml = 'Like what you see? Visit the ' +\n",
              "          '<a target=\"_blank\" href=https://colab.research.google.com/notebooks/data_table.ipynb>data table notebook</a>'\n",
              "          + ' to learn more about interactive tables.';\n",
              "        element.innerHTML = '';\n",
              "        dataTable['output_type'] = 'display_data';\n",
              "        await google.colab.output.renderOutput(dataTable, element);\n",
              "        const docLink = document.createElement('div');\n",
              "        docLink.innerHTML = docLinkHtml;\n",
              "        element.appendChild(docLink);\n",
              "      }\n",
              "    </script>\n",
              "  </div>\n",
              "\n",
              "\n",
              "<div id=\"df-40f3350d-e754-4cf1-b274-d61e9c6de825\">\n",
              "  <button class=\"colab-df-quickchart\" onclick=\"quickchart('df-40f3350d-e754-4cf1-b274-d61e9c6de825')\"\n",
              "            title=\"Suggest charts\"\n",
              "            style=\"display:none;\">\n",
              "\n",
              "<svg xmlns=\"http://www.w3.org/2000/svg\" height=\"24px\"viewBox=\"0 0 24 24\"\n",
              "     width=\"24px\">\n",
              "    <g>\n",
              "        <path d=\"M19 3H5c-1.1 0-2 .9-2 2v14c0 1.1.9 2 2 2h14c1.1 0 2-.9 2-2V5c0-1.1-.9-2-2-2zM9 17H7v-7h2v7zm4 0h-2V7h2v10zm4 0h-2v-4h2v4z\"/>\n",
              "    </g>\n",
              "</svg>\n",
              "  </button>\n",
              "\n",
              "<style>\n",
              "  .colab-df-quickchart {\n",
              "      --bg-color: #E8F0FE;\n",
              "      --fill-color: #1967D2;\n",
              "      --hover-bg-color: #E2EBFA;\n",
              "      --hover-fill-color: #174EA6;\n",
              "      --disabled-fill-color: #AAA;\n",
              "      --disabled-bg-color: #DDD;\n",
              "  }\n",
              "\n",
              "  [theme=dark] .colab-df-quickchart {\n",
              "      --bg-color: #3B4455;\n",
              "      --fill-color: #D2E3FC;\n",
              "      --hover-bg-color: #434B5C;\n",
              "      --hover-fill-color: #FFFFFF;\n",
              "      --disabled-bg-color: #3B4455;\n",
              "      --disabled-fill-color: #666;\n",
              "  }\n",
              "\n",
              "  .colab-df-quickchart {\n",
              "    background-color: var(--bg-color);\n",
              "    border: none;\n",
              "    border-radius: 50%;\n",
              "    cursor: pointer;\n",
              "    display: none;\n",
              "    fill: var(--fill-color);\n",
              "    height: 32px;\n",
              "    padding: 0;\n",
              "    width: 32px;\n",
              "  }\n",
              "\n",
              "  .colab-df-quickchart:hover {\n",
              "    background-color: var(--hover-bg-color);\n",
              "    box-shadow: 0 1px 2px rgba(60, 64, 67, 0.3), 0 1px 3px 1px rgba(60, 64, 67, 0.15);\n",
              "    fill: var(--button-hover-fill-color);\n",
              "  }\n",
              "\n",
              "  .colab-df-quickchart-complete:disabled,\n",
              "  .colab-df-quickchart-complete:disabled:hover {\n",
              "    background-color: var(--disabled-bg-color);\n",
              "    fill: var(--disabled-fill-color);\n",
              "    box-shadow: none;\n",
              "  }\n",
              "\n",
              "  .colab-df-spinner {\n",
              "    border: 2px solid var(--fill-color);\n",
              "    border-color: transparent;\n",
              "    border-bottom-color: var(--fill-color);\n",
              "    animation:\n",
              "      spin 1s steps(1) infinite;\n",
              "  }\n",
              "\n",
              "  @keyframes spin {\n",
              "    0% {\n",
              "      border-color: transparent;\n",
              "      border-bottom-color: var(--fill-color);\n",
              "      border-left-color: var(--fill-color);\n",
              "    }\n",
              "    20% {\n",
              "      border-color: transparent;\n",
              "      border-left-color: var(--fill-color);\n",
              "      border-top-color: var(--fill-color);\n",
              "    }\n",
              "    30% {\n",
              "      border-color: transparent;\n",
              "      border-left-color: var(--fill-color);\n",
              "      border-top-color: var(--fill-color);\n",
              "      border-right-color: var(--fill-color);\n",
              "    }\n",
              "    40% {\n",
              "      border-color: transparent;\n",
              "      border-right-color: var(--fill-color);\n",
              "      border-top-color: var(--fill-color);\n",
              "    }\n",
              "    60% {\n",
              "      border-color: transparent;\n",
              "      border-right-color: var(--fill-color);\n",
              "    }\n",
              "    80% {\n",
              "      border-color: transparent;\n",
              "      border-right-color: var(--fill-color);\n",
              "      border-bottom-color: var(--fill-color);\n",
              "    }\n",
              "    90% {\n",
              "      border-color: transparent;\n",
              "      border-bottom-color: var(--fill-color);\n",
              "    }\n",
              "  }\n",
              "</style>\n",
              "\n",
              "  <script>\n",
              "    async function quickchart(key) {\n",
              "      const quickchartButtonEl =\n",
              "        document.querySelector('#' + key + ' button');\n",
              "      quickchartButtonEl.disabled = true;  // To prevent multiple clicks.\n",
              "      quickchartButtonEl.classList.add('colab-df-spinner');\n",
              "      try {\n",
              "        const charts = await google.colab.kernel.invokeFunction(\n",
              "            'suggestCharts', [key], {});\n",
              "      } catch (error) {\n",
              "        console.error('Error during call to suggestCharts:', error);\n",
              "      }\n",
              "      quickchartButtonEl.classList.remove('colab-df-spinner');\n",
              "      quickchartButtonEl.classList.add('colab-df-quickchart-complete');\n",
              "    }\n",
              "    (() => {\n",
              "      let quickchartButtonEl =\n",
              "        document.querySelector('#df-40f3350d-e754-4cf1-b274-d61e9c6de825 button');\n",
              "      quickchartButtonEl.style.display =\n",
              "        google.colab.kernel.accessAllowed ? 'block' : 'none';\n",
              "    })();\n",
              "  </script>\n",
              "</div>\n",
              "\n",
              "    </div>\n",
              "  </div>\n"
            ],
            "application/vnd.google.colaboratory.intrinsic+json": {
              "type": "dataframe",
              "summary": "{\n  \"name\": \"usedCars\",\n  \"rows\": 8,\n  \"fields\": [\n    {\n      \"column\": \"id\",\n      \"properties\": {\n        \"dtype\": \"number\",\n        \"std\": 3376147495.0259314,\n        \"min\": 426880.0,\n        \"max\": 7317101084.0,\n        \"num_unique_values\": 8,\n        \"samples\": [\n          7311486634.224333,\n          7312620821.0,\n          426880.0\n        ],\n        \"semantic_type\": \"\",\n        \"description\": \"\"\n      }\n    },\n    {\n      \"column\": \"price\",\n      \"properties\": {\n        \"dtype\": \"number\",\n        \"std\": 1320567604.070719,\n        \"min\": 0.0,\n        \"max\": 3736928711.0,\n        \"num_unique_values\": 8,\n        \"samples\": [\n          75199.0331873126,\n          13950.0,\n          426880.0\n        ],\n        \"semantic_type\": \"\",\n        \"description\": \"\"\n      }\n    },\n    {\n      \"column\": \"year\",\n      \"properties\": {\n        \"dtype\": \"number\",\n        \"std\": 149895.33930041522,\n        \"min\": 9.452119581502558,\n        \"max\": 425675.0,\n        \"num_unique_values\": 8,\n        \"samples\": [\n          2011.23519116697,\n          2013.0,\n          425675.0\n        ],\n        \"semantic_type\": \"\",\n        \"description\": \"\"\n      }\n    },\n    {\n      \"column\": \"odometer\",\n      \"properties\": {\n        \"dtype\": \"number\",\n        \"std\": 3487930.4741538693,\n        \"min\": 0.0,\n        \"max\": 10000000.0,\n        \"num_unique_values\": 8,\n        \"samples\": [\n          98043.33144290854,\n          85548.0,\n          422480.0\n        ],\n        \"semantic_type\": \"\",\n        \"description\": \"\"\n      }\n    }\n  ]\n}"
            }
          },
          "metadata": {},
          "execution_count": 6
        }
      ]
    },
    {
      "cell_type": "code",
      "source": [
        "usedCars.head()"
      ],
      "metadata": {
        "colab": {
          "base_uri": "https://localhost:8080/",
          "height": 201
        },
        "id": "stSeudbC5k6q",
        "outputId": "d31ac937-b61d-4d16-f204-6742cf439fe5"
      },
      "execution_count": 7,
      "outputs": [
        {
          "output_type": "execute_result",
          "data": {
            "text/plain": [
              "           id                  region  price  year manufacturer model  \\\n",
              "0  7222695916                prescott   6000   NaN          NaN   NaN   \n",
              "1  7218891961            fayetteville  11900   NaN          NaN   NaN   \n",
              "2  7221797935            florida keys  21000   NaN          NaN   NaN   \n",
              "3  7222270760  worcester / central MA   1500   NaN          NaN   NaN   \n",
              "4  7210384030              greensboro   4900   NaN          NaN   NaN   \n",
              "\n",
              "  condition cylinders fuel  odometer title_status transmission  VIN drive  \\\n",
              "0       NaN       NaN  NaN       NaN          NaN          NaN  NaN   NaN   \n",
              "1       NaN       NaN  NaN       NaN          NaN          NaN  NaN   NaN   \n",
              "2       NaN       NaN  NaN       NaN          NaN          NaN  NaN   NaN   \n",
              "3       NaN       NaN  NaN       NaN          NaN          NaN  NaN   NaN   \n",
              "4       NaN       NaN  NaN       NaN          NaN          NaN  NaN   NaN   \n",
              "\n",
              "  size type paint_color state  \n",
              "0  NaN  NaN         NaN    az  \n",
              "1  NaN  NaN         NaN    ar  \n",
              "2  NaN  NaN         NaN    fl  \n",
              "3  NaN  NaN         NaN    ma  \n",
              "4  NaN  NaN         NaN    nc  "
            ],
            "text/html": [
              "\n",
              "  <div id=\"df-1bf5b8f5-4f43-41e7-9af0-e42c3ba79d7b\" class=\"colab-df-container\">\n",
              "    <div>\n",
              "<style scoped>\n",
              "    .dataframe tbody tr th:only-of-type {\n",
              "        vertical-align: middle;\n",
              "    }\n",
              "\n",
              "    .dataframe tbody tr th {\n",
              "        vertical-align: top;\n",
              "    }\n",
              "\n",
              "    .dataframe thead th {\n",
              "        text-align: right;\n",
              "    }\n",
              "</style>\n",
              "<table border=\"1\" class=\"dataframe\">\n",
              "  <thead>\n",
              "    <tr style=\"text-align: right;\">\n",
              "      <th></th>\n",
              "      <th>id</th>\n",
              "      <th>region</th>\n",
              "      <th>price</th>\n",
              "      <th>year</th>\n",
              "      <th>manufacturer</th>\n",
              "      <th>model</th>\n",
              "      <th>condition</th>\n",
              "      <th>cylinders</th>\n",
              "      <th>fuel</th>\n",
              "      <th>odometer</th>\n",
              "      <th>title_status</th>\n",
              "      <th>transmission</th>\n",
              "      <th>VIN</th>\n",
              "      <th>drive</th>\n",
              "      <th>size</th>\n",
              "      <th>type</th>\n",
              "      <th>paint_color</th>\n",
              "      <th>state</th>\n",
              "    </tr>\n",
              "  </thead>\n",
              "  <tbody>\n",
              "    <tr>\n",
              "      <th>0</th>\n",
              "      <td>7222695916</td>\n",
              "      <td>prescott</td>\n",
              "      <td>6000</td>\n",
              "      <td>NaN</td>\n",
              "      <td>NaN</td>\n",
              "      <td>NaN</td>\n",
              "      <td>NaN</td>\n",
              "      <td>NaN</td>\n",
              "      <td>NaN</td>\n",
              "      <td>NaN</td>\n",
              "      <td>NaN</td>\n",
              "      <td>NaN</td>\n",
              "      <td>NaN</td>\n",
              "      <td>NaN</td>\n",
              "      <td>NaN</td>\n",
              "      <td>NaN</td>\n",
              "      <td>NaN</td>\n",
              "      <td>az</td>\n",
              "    </tr>\n",
              "    <tr>\n",
              "      <th>1</th>\n",
              "      <td>7218891961</td>\n",
              "      <td>fayetteville</td>\n",
              "      <td>11900</td>\n",
              "      <td>NaN</td>\n",
              "      <td>NaN</td>\n",
              "      <td>NaN</td>\n",
              "      <td>NaN</td>\n",
              "      <td>NaN</td>\n",
              "      <td>NaN</td>\n",
              "      <td>NaN</td>\n",
              "      <td>NaN</td>\n",
              "      <td>NaN</td>\n",
              "      <td>NaN</td>\n",
              "      <td>NaN</td>\n",
              "      <td>NaN</td>\n",
              "      <td>NaN</td>\n",
              "      <td>NaN</td>\n",
              "      <td>ar</td>\n",
              "    </tr>\n",
              "    <tr>\n",
              "      <th>2</th>\n",
              "      <td>7221797935</td>\n",
              "      <td>florida keys</td>\n",
              "      <td>21000</td>\n",
              "      <td>NaN</td>\n",
              "      <td>NaN</td>\n",
              "      <td>NaN</td>\n",
              "      <td>NaN</td>\n",
              "      <td>NaN</td>\n",
              "      <td>NaN</td>\n",
              "      <td>NaN</td>\n",
              "      <td>NaN</td>\n",
              "      <td>NaN</td>\n",
              "      <td>NaN</td>\n",
              "      <td>NaN</td>\n",
              "      <td>NaN</td>\n",
              "      <td>NaN</td>\n",
              "      <td>NaN</td>\n",
              "      <td>fl</td>\n",
              "    </tr>\n",
              "    <tr>\n",
              "      <th>3</th>\n",
              "      <td>7222270760</td>\n",
              "      <td>worcester / central MA</td>\n",
              "      <td>1500</td>\n",
              "      <td>NaN</td>\n",
              "      <td>NaN</td>\n",
              "      <td>NaN</td>\n",
              "      <td>NaN</td>\n",
              "      <td>NaN</td>\n",
              "      <td>NaN</td>\n",
              "      <td>NaN</td>\n",
              "      <td>NaN</td>\n",
              "      <td>NaN</td>\n",
              "      <td>NaN</td>\n",
              "      <td>NaN</td>\n",
              "      <td>NaN</td>\n",
              "      <td>NaN</td>\n",
              "      <td>NaN</td>\n",
              "      <td>ma</td>\n",
              "    </tr>\n",
              "    <tr>\n",
              "      <th>4</th>\n",
              "      <td>7210384030</td>\n",
              "      <td>greensboro</td>\n",
              "      <td>4900</td>\n",
              "      <td>NaN</td>\n",
              "      <td>NaN</td>\n",
              "      <td>NaN</td>\n",
              "      <td>NaN</td>\n",
              "      <td>NaN</td>\n",
              "      <td>NaN</td>\n",
              "      <td>NaN</td>\n",
              "      <td>NaN</td>\n",
              "      <td>NaN</td>\n",
              "      <td>NaN</td>\n",
              "      <td>NaN</td>\n",
              "      <td>NaN</td>\n",
              "      <td>NaN</td>\n",
              "      <td>NaN</td>\n",
              "      <td>nc</td>\n",
              "    </tr>\n",
              "  </tbody>\n",
              "</table>\n",
              "</div>\n",
              "    <div class=\"colab-df-buttons\">\n",
              "\n",
              "  <div class=\"colab-df-container\">\n",
              "    <button class=\"colab-df-convert\" onclick=\"convertToInteractive('df-1bf5b8f5-4f43-41e7-9af0-e42c3ba79d7b')\"\n",
              "            title=\"Convert this dataframe to an interactive table.\"\n",
              "            style=\"display:none;\">\n",
              "\n",
              "  <svg xmlns=\"http://www.w3.org/2000/svg\" height=\"24px\" viewBox=\"0 -960 960 960\">\n",
              "    <path d=\"M120-120v-720h720v720H120Zm60-500h600v-160H180v160Zm220 220h160v-160H400v160Zm0 220h160v-160H400v160ZM180-400h160v-160H180v160Zm440 0h160v-160H620v160ZM180-180h160v-160H180v160Zm440 0h160v-160H620v160Z\"/>\n",
              "  </svg>\n",
              "    </button>\n",
              "\n",
              "  <style>\n",
              "    .colab-df-container {\n",
              "      display:flex;\n",
              "      gap: 12px;\n",
              "    }\n",
              "\n",
              "    .colab-df-convert {\n",
              "      background-color: #E8F0FE;\n",
              "      border: none;\n",
              "      border-radius: 50%;\n",
              "      cursor: pointer;\n",
              "      display: none;\n",
              "      fill: #1967D2;\n",
              "      height: 32px;\n",
              "      padding: 0 0 0 0;\n",
              "      width: 32px;\n",
              "    }\n",
              "\n",
              "    .colab-df-convert:hover {\n",
              "      background-color: #E2EBFA;\n",
              "      box-shadow: 0px 1px 2px rgba(60, 64, 67, 0.3), 0px 1px 3px 1px rgba(60, 64, 67, 0.15);\n",
              "      fill: #174EA6;\n",
              "    }\n",
              "\n",
              "    .colab-df-buttons div {\n",
              "      margin-bottom: 4px;\n",
              "    }\n",
              "\n",
              "    [theme=dark] .colab-df-convert {\n",
              "      background-color: #3B4455;\n",
              "      fill: #D2E3FC;\n",
              "    }\n",
              "\n",
              "    [theme=dark] .colab-df-convert:hover {\n",
              "      background-color: #434B5C;\n",
              "      box-shadow: 0px 1px 3px 1px rgba(0, 0, 0, 0.15);\n",
              "      filter: drop-shadow(0px 1px 2px rgba(0, 0, 0, 0.3));\n",
              "      fill: #FFFFFF;\n",
              "    }\n",
              "  </style>\n",
              "\n",
              "    <script>\n",
              "      const buttonEl =\n",
              "        document.querySelector('#df-1bf5b8f5-4f43-41e7-9af0-e42c3ba79d7b button.colab-df-convert');\n",
              "      buttonEl.style.display =\n",
              "        google.colab.kernel.accessAllowed ? 'block' : 'none';\n",
              "\n",
              "      async function convertToInteractive(key) {\n",
              "        const element = document.querySelector('#df-1bf5b8f5-4f43-41e7-9af0-e42c3ba79d7b');\n",
              "        const dataTable =\n",
              "          await google.colab.kernel.invokeFunction('convertToInteractive',\n",
              "                                                    [key], {});\n",
              "        if (!dataTable) return;\n",
              "\n",
              "        const docLinkHtml = 'Like what you see? Visit the ' +\n",
              "          '<a target=\"_blank\" href=https://colab.research.google.com/notebooks/data_table.ipynb>data table notebook</a>'\n",
              "          + ' to learn more about interactive tables.';\n",
              "        element.innerHTML = '';\n",
              "        dataTable['output_type'] = 'display_data';\n",
              "        await google.colab.output.renderOutput(dataTable, element);\n",
              "        const docLink = document.createElement('div');\n",
              "        docLink.innerHTML = docLinkHtml;\n",
              "        element.appendChild(docLink);\n",
              "      }\n",
              "    </script>\n",
              "  </div>\n",
              "\n",
              "\n",
              "<div id=\"df-23a1a5e6-b002-4878-8c95-949ae3dacf38\">\n",
              "  <button class=\"colab-df-quickchart\" onclick=\"quickchart('df-23a1a5e6-b002-4878-8c95-949ae3dacf38')\"\n",
              "            title=\"Suggest charts\"\n",
              "            style=\"display:none;\">\n",
              "\n",
              "<svg xmlns=\"http://www.w3.org/2000/svg\" height=\"24px\"viewBox=\"0 0 24 24\"\n",
              "     width=\"24px\">\n",
              "    <g>\n",
              "        <path d=\"M19 3H5c-1.1 0-2 .9-2 2v14c0 1.1.9 2 2 2h14c1.1 0 2-.9 2-2V5c0-1.1-.9-2-2-2zM9 17H7v-7h2v7zm4 0h-2V7h2v10zm4 0h-2v-4h2v4z\"/>\n",
              "    </g>\n",
              "</svg>\n",
              "  </button>\n",
              "\n",
              "<style>\n",
              "  .colab-df-quickchart {\n",
              "      --bg-color: #E8F0FE;\n",
              "      --fill-color: #1967D2;\n",
              "      --hover-bg-color: #E2EBFA;\n",
              "      --hover-fill-color: #174EA6;\n",
              "      --disabled-fill-color: #AAA;\n",
              "      --disabled-bg-color: #DDD;\n",
              "  }\n",
              "\n",
              "  [theme=dark] .colab-df-quickchart {\n",
              "      --bg-color: #3B4455;\n",
              "      --fill-color: #D2E3FC;\n",
              "      --hover-bg-color: #434B5C;\n",
              "      --hover-fill-color: #FFFFFF;\n",
              "      --disabled-bg-color: #3B4455;\n",
              "      --disabled-fill-color: #666;\n",
              "  }\n",
              "\n",
              "  .colab-df-quickchart {\n",
              "    background-color: var(--bg-color);\n",
              "    border: none;\n",
              "    border-radius: 50%;\n",
              "    cursor: pointer;\n",
              "    display: none;\n",
              "    fill: var(--fill-color);\n",
              "    height: 32px;\n",
              "    padding: 0;\n",
              "    width: 32px;\n",
              "  }\n",
              "\n",
              "  .colab-df-quickchart:hover {\n",
              "    background-color: var(--hover-bg-color);\n",
              "    box-shadow: 0 1px 2px rgba(60, 64, 67, 0.3), 0 1px 3px 1px rgba(60, 64, 67, 0.15);\n",
              "    fill: var(--button-hover-fill-color);\n",
              "  }\n",
              "\n",
              "  .colab-df-quickchart-complete:disabled,\n",
              "  .colab-df-quickchart-complete:disabled:hover {\n",
              "    background-color: var(--disabled-bg-color);\n",
              "    fill: var(--disabled-fill-color);\n",
              "    box-shadow: none;\n",
              "  }\n",
              "\n",
              "  .colab-df-spinner {\n",
              "    border: 2px solid var(--fill-color);\n",
              "    border-color: transparent;\n",
              "    border-bottom-color: var(--fill-color);\n",
              "    animation:\n",
              "      spin 1s steps(1) infinite;\n",
              "  }\n",
              "\n",
              "  @keyframes spin {\n",
              "    0% {\n",
              "      border-color: transparent;\n",
              "      border-bottom-color: var(--fill-color);\n",
              "      border-left-color: var(--fill-color);\n",
              "    }\n",
              "    20% {\n",
              "      border-color: transparent;\n",
              "      border-left-color: var(--fill-color);\n",
              "      border-top-color: var(--fill-color);\n",
              "    }\n",
              "    30% {\n",
              "      border-color: transparent;\n",
              "      border-left-color: var(--fill-color);\n",
              "      border-top-color: var(--fill-color);\n",
              "      border-right-color: var(--fill-color);\n",
              "    }\n",
              "    40% {\n",
              "      border-color: transparent;\n",
              "      border-right-color: var(--fill-color);\n",
              "      border-top-color: var(--fill-color);\n",
              "    }\n",
              "    60% {\n",
              "      border-color: transparent;\n",
              "      border-right-color: var(--fill-color);\n",
              "    }\n",
              "    80% {\n",
              "      border-color: transparent;\n",
              "      border-right-color: var(--fill-color);\n",
              "      border-bottom-color: var(--fill-color);\n",
              "    }\n",
              "    90% {\n",
              "      border-color: transparent;\n",
              "      border-bottom-color: var(--fill-color);\n",
              "    }\n",
              "  }\n",
              "</style>\n",
              "\n",
              "  <script>\n",
              "    async function quickchart(key) {\n",
              "      const quickchartButtonEl =\n",
              "        document.querySelector('#' + key + ' button');\n",
              "      quickchartButtonEl.disabled = true;  // To prevent multiple clicks.\n",
              "      quickchartButtonEl.classList.add('colab-df-spinner');\n",
              "      try {\n",
              "        const charts = await google.colab.kernel.invokeFunction(\n",
              "            'suggestCharts', [key], {});\n",
              "      } catch (error) {\n",
              "        console.error('Error during call to suggestCharts:', error);\n",
              "      }\n",
              "      quickchartButtonEl.classList.remove('colab-df-spinner');\n",
              "      quickchartButtonEl.classList.add('colab-df-quickchart-complete');\n",
              "    }\n",
              "    (() => {\n",
              "      let quickchartButtonEl =\n",
              "        document.querySelector('#df-23a1a5e6-b002-4878-8c95-949ae3dacf38 button');\n",
              "      quickchartButtonEl.style.display =\n",
              "        google.colab.kernel.accessAllowed ? 'block' : 'none';\n",
              "    })();\n",
              "  </script>\n",
              "</div>\n",
              "\n",
              "    </div>\n",
              "  </div>\n"
            ],
            "application/vnd.google.colaboratory.intrinsic+json": {
              "type": "dataframe",
              "variable_name": "usedCars"
            }
          },
          "metadata": {},
          "execution_count": 7
        }
      ]
    },
    {
      "cell_type": "markdown",
      "source": [
        "# 1) Analyze missing values."
      ],
      "metadata": {
        "id": "e__rvujG6Emf"
      }
    },
    {
      "cell_type": "code",
      "source": [
        "# Analyze the null value percentage in columns\n",
        "null_percentage = usedCars.isnull().mean() * 100\n",
        "print(null_percentage)"
      ],
      "metadata": {
        "colab": {
          "base_uri": "https://localhost:8080/"
        },
        "id": "SMEHe6Zk546d",
        "outputId": "67850dd5-c8f6-4e63-db1f-ece7ef254d16"
      },
      "execution_count": 8,
      "outputs": [
        {
          "output_type": "stream",
          "name": "stdout",
          "text": [
            "id               0.000000\n",
            "region           0.000000\n",
            "price            0.000000\n",
            "year             0.282281\n",
            "manufacturer     4.133714\n",
            "model            1.236179\n",
            "condition       40.785232\n",
            "cylinders       41.622470\n",
            "fuel             0.705819\n",
            "odometer         1.030735\n",
            "title_status     1.930753\n",
            "transmission     0.598763\n",
            "VIN             37.725356\n",
            "drive           30.586347\n",
            "size            71.767476\n",
            "type            21.752717\n",
            "paint_color     30.501078\n",
            "state            0.000000\n",
            "dtype: float64\n"
          ]
        }
      ]
    },
    {
      "cell_type": "markdown",
      "source": [
        "# 2) Drop unwanted columns"
      ],
      "metadata": {
        "id": "KznAfrfu681J"
      }
    },
    {
      "cell_type": "code",
      "source": [
        "\n",
        "# Size column has 71% null values. Drop the column.\n",
        "# Drop columns ID and VIN as they are completely unique.\n",
        "usedCars = usedCars.drop(columns=['id', 'VIN','size'])\n",
        "\n"
      ],
      "metadata": {
        "id": "ELbEL9Rcrkj2"
      },
      "execution_count": 9,
      "outputs": []
    },
    {
      "cell_type": "markdown",
      "source": [
        "# 3) Convert columns to appropriate types\n",
        "\n",
        "\n"
      ],
      "metadata": {
        "id": "hnkmTFpr6dTf"
      }
    },
    {
      "cell_type": "code",
      "source": [
        "# Convert the types of columns to most appropriate\n",
        "usedCars = usedCars.convert_dtypes()\n",
        "print(usedCars.info())"
      ],
      "metadata": {
        "colab": {
          "base_uri": "https://localhost:8080/"
        },
        "id": "bHlFKysc6a5-",
        "outputId": "0ca5153e-afdc-44be-d5d0-894afac01b11"
      },
      "execution_count": 10,
      "outputs": [
        {
          "output_type": "stream",
          "name": "stdout",
          "text": [
            "<class 'pandas.core.frame.DataFrame'>\n",
            "RangeIndex: 426880 entries, 0 to 426879\n",
            "Data columns (total 15 columns):\n",
            " #   Column        Non-Null Count   Dtype \n",
            "---  ------        --------------   ----- \n",
            " 0   region        426880 non-null  string\n",
            " 1   price         426880 non-null  Int64 \n",
            " 2   year          425675 non-null  Int64 \n",
            " 3   manufacturer  409234 non-null  string\n",
            " 4   model         421603 non-null  string\n",
            " 5   condition     252776 non-null  string\n",
            " 6   cylinders     249202 non-null  string\n",
            " 7   fuel          423867 non-null  string\n",
            " 8   odometer      422480 non-null  Int64 \n",
            " 9   title_status  418638 non-null  string\n",
            " 10  transmission  424324 non-null  string\n",
            " 11  drive         296313 non-null  string\n",
            " 12  type          334022 non-null  string\n",
            " 13  paint_color   296677 non-null  string\n",
            " 14  state         426880 non-null  string\n",
            "dtypes: Int64(3), string(12)\n",
            "memory usage: 50.1 MB\n",
            "None\n"
          ]
        }
      ]
    },
    {
      "cell_type": "code",
      "execution_count": 11,
      "metadata": {
        "id": "TN_N2-rV2LwM",
        "colab": {
          "base_uri": "https://localhost:8080/",
          "height": 170
        },
        "outputId": "100c618f-6caf-4207-8847-552798e4f14c"
      },
      "outputs": [
        {
          "output_type": "execute_result",
          "data": {
            "text/plain": [
              "          region manufacturer   model condition    cylinders    fuel  \\\n",
              "count     426880       409234  421603    252776       249202  423867   \n",
              "unique       404           42   29649         6            8       5   \n",
              "top     columbus         ford   f-150      good  6 cylinders     gas   \n",
              "freq        3608        70985    8009    121456        94169  356209   \n",
              "\n",
              "       title_status transmission   drive    type paint_color   state  \n",
              "count        418638       424324  296313  334022      296677  426880  \n",
              "unique            6            3       3      13          12      51  \n",
              "top           clean    automatic     4wd   sedan       white      ca  \n",
              "freq         405117       336524  131904   87056       79285   50614  "
            ],
            "text/html": [
              "\n",
              "  <div id=\"df-5c56a2ea-9687-44a2-b7a1-a1395f2a369e\" class=\"colab-df-container\">\n",
              "    <div>\n",
              "<style scoped>\n",
              "    .dataframe tbody tr th:only-of-type {\n",
              "        vertical-align: middle;\n",
              "    }\n",
              "\n",
              "    .dataframe tbody tr th {\n",
              "        vertical-align: top;\n",
              "    }\n",
              "\n",
              "    .dataframe thead th {\n",
              "        text-align: right;\n",
              "    }\n",
              "</style>\n",
              "<table border=\"1\" class=\"dataframe\">\n",
              "  <thead>\n",
              "    <tr style=\"text-align: right;\">\n",
              "      <th></th>\n",
              "      <th>region</th>\n",
              "      <th>manufacturer</th>\n",
              "      <th>model</th>\n",
              "      <th>condition</th>\n",
              "      <th>cylinders</th>\n",
              "      <th>fuel</th>\n",
              "      <th>title_status</th>\n",
              "      <th>transmission</th>\n",
              "      <th>drive</th>\n",
              "      <th>type</th>\n",
              "      <th>paint_color</th>\n",
              "      <th>state</th>\n",
              "    </tr>\n",
              "  </thead>\n",
              "  <tbody>\n",
              "    <tr>\n",
              "      <th>count</th>\n",
              "      <td>426880</td>\n",
              "      <td>409234</td>\n",
              "      <td>421603</td>\n",
              "      <td>252776</td>\n",
              "      <td>249202</td>\n",
              "      <td>423867</td>\n",
              "      <td>418638</td>\n",
              "      <td>424324</td>\n",
              "      <td>296313</td>\n",
              "      <td>334022</td>\n",
              "      <td>296677</td>\n",
              "      <td>426880</td>\n",
              "    </tr>\n",
              "    <tr>\n",
              "      <th>unique</th>\n",
              "      <td>404</td>\n",
              "      <td>42</td>\n",
              "      <td>29649</td>\n",
              "      <td>6</td>\n",
              "      <td>8</td>\n",
              "      <td>5</td>\n",
              "      <td>6</td>\n",
              "      <td>3</td>\n",
              "      <td>3</td>\n",
              "      <td>13</td>\n",
              "      <td>12</td>\n",
              "      <td>51</td>\n",
              "    </tr>\n",
              "    <tr>\n",
              "      <th>top</th>\n",
              "      <td>columbus</td>\n",
              "      <td>ford</td>\n",
              "      <td>f-150</td>\n",
              "      <td>good</td>\n",
              "      <td>6 cylinders</td>\n",
              "      <td>gas</td>\n",
              "      <td>clean</td>\n",
              "      <td>automatic</td>\n",
              "      <td>4wd</td>\n",
              "      <td>sedan</td>\n",
              "      <td>white</td>\n",
              "      <td>ca</td>\n",
              "    </tr>\n",
              "    <tr>\n",
              "      <th>freq</th>\n",
              "      <td>3608</td>\n",
              "      <td>70985</td>\n",
              "      <td>8009</td>\n",
              "      <td>121456</td>\n",
              "      <td>94169</td>\n",
              "      <td>356209</td>\n",
              "      <td>405117</td>\n",
              "      <td>336524</td>\n",
              "      <td>131904</td>\n",
              "      <td>87056</td>\n",
              "      <td>79285</td>\n",
              "      <td>50614</td>\n",
              "    </tr>\n",
              "  </tbody>\n",
              "</table>\n",
              "</div>\n",
              "    <div class=\"colab-df-buttons\">\n",
              "\n",
              "  <div class=\"colab-df-container\">\n",
              "    <button class=\"colab-df-convert\" onclick=\"convertToInteractive('df-5c56a2ea-9687-44a2-b7a1-a1395f2a369e')\"\n",
              "            title=\"Convert this dataframe to an interactive table.\"\n",
              "            style=\"display:none;\">\n",
              "\n",
              "  <svg xmlns=\"http://www.w3.org/2000/svg\" height=\"24px\" viewBox=\"0 -960 960 960\">\n",
              "    <path d=\"M120-120v-720h720v720H120Zm60-500h600v-160H180v160Zm220 220h160v-160H400v160Zm0 220h160v-160H400v160ZM180-400h160v-160H180v160Zm440 0h160v-160H620v160ZM180-180h160v-160H180v160Zm440 0h160v-160H620v160Z\"/>\n",
              "  </svg>\n",
              "    </button>\n",
              "\n",
              "  <style>\n",
              "    .colab-df-container {\n",
              "      display:flex;\n",
              "      gap: 12px;\n",
              "    }\n",
              "\n",
              "    .colab-df-convert {\n",
              "      background-color: #E8F0FE;\n",
              "      border: none;\n",
              "      border-radius: 50%;\n",
              "      cursor: pointer;\n",
              "      display: none;\n",
              "      fill: #1967D2;\n",
              "      height: 32px;\n",
              "      padding: 0 0 0 0;\n",
              "      width: 32px;\n",
              "    }\n",
              "\n",
              "    .colab-df-convert:hover {\n",
              "      background-color: #E2EBFA;\n",
              "      box-shadow: 0px 1px 2px rgba(60, 64, 67, 0.3), 0px 1px 3px 1px rgba(60, 64, 67, 0.15);\n",
              "      fill: #174EA6;\n",
              "    }\n",
              "\n",
              "    .colab-df-buttons div {\n",
              "      margin-bottom: 4px;\n",
              "    }\n",
              "\n",
              "    [theme=dark] .colab-df-convert {\n",
              "      background-color: #3B4455;\n",
              "      fill: #D2E3FC;\n",
              "    }\n",
              "\n",
              "    [theme=dark] .colab-df-convert:hover {\n",
              "      background-color: #434B5C;\n",
              "      box-shadow: 0px 1px 3px 1px rgba(0, 0, 0, 0.15);\n",
              "      filter: drop-shadow(0px 1px 2px rgba(0, 0, 0, 0.3));\n",
              "      fill: #FFFFFF;\n",
              "    }\n",
              "  </style>\n",
              "\n",
              "    <script>\n",
              "      const buttonEl =\n",
              "        document.querySelector('#df-5c56a2ea-9687-44a2-b7a1-a1395f2a369e button.colab-df-convert');\n",
              "      buttonEl.style.display =\n",
              "        google.colab.kernel.accessAllowed ? 'block' : 'none';\n",
              "\n",
              "      async function convertToInteractive(key) {\n",
              "        const element = document.querySelector('#df-5c56a2ea-9687-44a2-b7a1-a1395f2a369e');\n",
              "        const dataTable =\n",
              "          await google.colab.kernel.invokeFunction('convertToInteractive',\n",
              "                                                    [key], {});\n",
              "        if (!dataTable) return;\n",
              "\n",
              "        const docLinkHtml = 'Like what you see? Visit the ' +\n",
              "          '<a target=\"_blank\" href=https://colab.research.google.com/notebooks/data_table.ipynb>data table notebook</a>'\n",
              "          + ' to learn more about interactive tables.';\n",
              "        element.innerHTML = '';\n",
              "        dataTable['output_type'] = 'display_data';\n",
              "        await google.colab.output.renderOutput(dataTable, element);\n",
              "        const docLink = document.createElement('div');\n",
              "        docLink.innerHTML = docLinkHtml;\n",
              "        element.appendChild(docLink);\n",
              "      }\n",
              "    </script>\n",
              "  </div>\n",
              "\n",
              "\n",
              "<div id=\"df-9a2af6b2-3c56-41a4-91dc-2f5e089755cd\">\n",
              "  <button class=\"colab-df-quickchart\" onclick=\"quickchart('df-9a2af6b2-3c56-41a4-91dc-2f5e089755cd')\"\n",
              "            title=\"Suggest charts\"\n",
              "            style=\"display:none;\">\n",
              "\n",
              "<svg xmlns=\"http://www.w3.org/2000/svg\" height=\"24px\"viewBox=\"0 0 24 24\"\n",
              "     width=\"24px\">\n",
              "    <g>\n",
              "        <path d=\"M19 3H5c-1.1 0-2 .9-2 2v14c0 1.1.9 2 2 2h14c1.1 0 2-.9 2-2V5c0-1.1-.9-2-2-2zM9 17H7v-7h2v7zm4 0h-2V7h2v10zm4 0h-2v-4h2v4z\"/>\n",
              "    </g>\n",
              "</svg>\n",
              "  </button>\n",
              "\n",
              "<style>\n",
              "  .colab-df-quickchart {\n",
              "      --bg-color: #E8F0FE;\n",
              "      --fill-color: #1967D2;\n",
              "      --hover-bg-color: #E2EBFA;\n",
              "      --hover-fill-color: #174EA6;\n",
              "      --disabled-fill-color: #AAA;\n",
              "      --disabled-bg-color: #DDD;\n",
              "  }\n",
              "\n",
              "  [theme=dark] .colab-df-quickchart {\n",
              "      --bg-color: #3B4455;\n",
              "      --fill-color: #D2E3FC;\n",
              "      --hover-bg-color: #434B5C;\n",
              "      --hover-fill-color: #FFFFFF;\n",
              "      --disabled-bg-color: #3B4455;\n",
              "      --disabled-fill-color: #666;\n",
              "  }\n",
              "\n",
              "  .colab-df-quickchart {\n",
              "    background-color: var(--bg-color);\n",
              "    border: none;\n",
              "    border-radius: 50%;\n",
              "    cursor: pointer;\n",
              "    display: none;\n",
              "    fill: var(--fill-color);\n",
              "    height: 32px;\n",
              "    padding: 0;\n",
              "    width: 32px;\n",
              "  }\n",
              "\n",
              "  .colab-df-quickchart:hover {\n",
              "    background-color: var(--hover-bg-color);\n",
              "    box-shadow: 0 1px 2px rgba(60, 64, 67, 0.3), 0 1px 3px 1px rgba(60, 64, 67, 0.15);\n",
              "    fill: var(--button-hover-fill-color);\n",
              "  }\n",
              "\n",
              "  .colab-df-quickchart-complete:disabled,\n",
              "  .colab-df-quickchart-complete:disabled:hover {\n",
              "    background-color: var(--disabled-bg-color);\n",
              "    fill: var(--disabled-fill-color);\n",
              "    box-shadow: none;\n",
              "  }\n",
              "\n",
              "  .colab-df-spinner {\n",
              "    border: 2px solid var(--fill-color);\n",
              "    border-color: transparent;\n",
              "    border-bottom-color: var(--fill-color);\n",
              "    animation:\n",
              "      spin 1s steps(1) infinite;\n",
              "  }\n",
              "\n",
              "  @keyframes spin {\n",
              "    0% {\n",
              "      border-color: transparent;\n",
              "      border-bottom-color: var(--fill-color);\n",
              "      border-left-color: var(--fill-color);\n",
              "    }\n",
              "    20% {\n",
              "      border-color: transparent;\n",
              "      border-left-color: var(--fill-color);\n",
              "      border-top-color: var(--fill-color);\n",
              "    }\n",
              "    30% {\n",
              "      border-color: transparent;\n",
              "      border-left-color: var(--fill-color);\n",
              "      border-top-color: var(--fill-color);\n",
              "      border-right-color: var(--fill-color);\n",
              "    }\n",
              "    40% {\n",
              "      border-color: transparent;\n",
              "      border-right-color: var(--fill-color);\n",
              "      border-top-color: var(--fill-color);\n",
              "    }\n",
              "    60% {\n",
              "      border-color: transparent;\n",
              "      border-right-color: var(--fill-color);\n",
              "    }\n",
              "    80% {\n",
              "      border-color: transparent;\n",
              "      border-right-color: var(--fill-color);\n",
              "      border-bottom-color: var(--fill-color);\n",
              "    }\n",
              "    90% {\n",
              "      border-color: transparent;\n",
              "      border-bottom-color: var(--fill-color);\n",
              "    }\n",
              "  }\n",
              "</style>\n",
              "\n",
              "  <script>\n",
              "    async function quickchart(key) {\n",
              "      const quickchartButtonEl =\n",
              "        document.querySelector('#' + key + ' button');\n",
              "      quickchartButtonEl.disabled = true;  // To prevent multiple clicks.\n",
              "      quickchartButtonEl.classList.add('colab-df-spinner');\n",
              "      try {\n",
              "        const charts = await google.colab.kernel.invokeFunction(\n",
              "            'suggestCharts', [key], {});\n",
              "      } catch (error) {\n",
              "        console.error('Error during call to suggestCharts:', error);\n",
              "      }\n",
              "      quickchartButtonEl.classList.remove('colab-df-spinner');\n",
              "      quickchartButtonEl.classList.add('colab-df-quickchart-complete');\n",
              "    }\n",
              "    (() => {\n",
              "      let quickchartButtonEl =\n",
              "        document.querySelector('#df-9a2af6b2-3c56-41a4-91dc-2f5e089755cd button');\n",
              "      quickchartButtonEl.style.display =\n",
              "        google.colab.kernel.accessAllowed ? 'block' : 'none';\n",
              "    })();\n",
              "  </script>\n",
              "</div>\n",
              "\n",
              "    </div>\n",
              "  </div>\n"
            ],
            "application/vnd.google.colaboratory.intrinsic+json": {
              "type": "dataframe",
              "summary": "{\n  \"name\": \"usedCars\",\n  \"rows\": 4,\n  \"fields\": [\n    {\n      \"column\": \"region\",\n      \"properties\": {\n        \"dtype\": \"string\",\n        \"num_unique_values\": 4,\n        \"samples\": [\n          404,\n          \"3608\",\n          \"426880\"\n        ],\n        \"semantic_type\": \"\",\n        \"description\": \"\"\n      }\n    },\n    {\n      \"column\": \"manufacturer\",\n      \"properties\": {\n        \"dtype\": \"string\",\n        \"num_unique_values\": 4,\n        \"samples\": [\n          42,\n          \"70985\",\n          \"409234\"\n        ],\n        \"semantic_type\": \"\",\n        \"description\": \"\"\n      }\n    },\n    {\n      \"column\": \"model\",\n      \"properties\": {\n        \"dtype\": \"string\",\n        \"num_unique_values\": 4,\n        \"samples\": [\n          29649,\n          \"8009\",\n          \"421603\"\n        ],\n        \"semantic_type\": \"\",\n        \"description\": \"\"\n      }\n    },\n    {\n      \"column\": \"condition\",\n      \"properties\": {\n        \"dtype\": \"string\",\n        \"num_unique_values\": 4,\n        \"samples\": [\n          6,\n          \"121456\",\n          \"252776\"\n        ],\n        \"semantic_type\": \"\",\n        \"description\": \"\"\n      }\n    },\n    {\n      \"column\": \"cylinders\",\n      \"properties\": {\n        \"dtype\": \"string\",\n        \"num_unique_values\": 4,\n        \"samples\": [\n          8,\n          \"94169\",\n          \"249202\"\n        ],\n        \"semantic_type\": \"\",\n        \"description\": \"\"\n      }\n    },\n    {\n      \"column\": \"fuel\",\n      \"properties\": {\n        \"dtype\": \"string\",\n        \"num_unique_values\": 4,\n        \"samples\": [\n          5,\n          \"356209\",\n          \"423867\"\n        ],\n        \"semantic_type\": \"\",\n        \"description\": \"\"\n      }\n    },\n    {\n      \"column\": \"title_status\",\n      \"properties\": {\n        \"dtype\": \"string\",\n        \"num_unique_values\": 4,\n        \"samples\": [\n          6,\n          \"405117\",\n          \"418638\"\n        ],\n        \"semantic_type\": \"\",\n        \"description\": \"\"\n      }\n    },\n    {\n      \"column\": \"transmission\",\n      \"properties\": {\n        \"dtype\": \"string\",\n        \"num_unique_values\": 4,\n        \"samples\": [\n          3,\n          \"336524\",\n          \"424324\"\n        ],\n        \"semantic_type\": \"\",\n        \"description\": \"\"\n      }\n    },\n    {\n      \"column\": \"drive\",\n      \"properties\": {\n        \"dtype\": \"string\",\n        \"num_unique_values\": 4,\n        \"samples\": [\n          3,\n          \"131904\",\n          \"296313\"\n        ],\n        \"semantic_type\": \"\",\n        \"description\": \"\"\n      }\n    },\n    {\n      \"column\": \"type\",\n      \"properties\": {\n        \"dtype\": \"string\",\n        \"num_unique_values\": 4,\n        \"samples\": [\n          13,\n          \"87056\",\n          \"334022\"\n        ],\n        \"semantic_type\": \"\",\n        \"description\": \"\"\n      }\n    },\n    {\n      \"column\": \"paint_color\",\n      \"properties\": {\n        \"dtype\": \"string\",\n        \"num_unique_values\": 4,\n        \"samples\": [\n          12,\n          \"79285\",\n          \"296677\"\n        ],\n        \"semantic_type\": \"\",\n        \"description\": \"\"\n      }\n    },\n    {\n      \"column\": \"state\",\n      \"properties\": {\n        \"dtype\": \"string\",\n        \"num_unique_values\": 4,\n        \"samples\": [\n          51,\n          \"50614\",\n          \"426880\"\n        ],\n        \"semantic_type\": \"\",\n        \"description\": \"\"\n      }\n    }\n  ]\n}"
            }
          },
          "metadata": {},
          "execution_count": 11
        }
      ],
      "source": [
        "usedCars.describe(include = ['string'])"
      ]
    },
    {
      "cell_type": "markdown",
      "source": [
        "# 4) Check for outliers\n"
      ],
      "metadata": {
        "id": "3BPv_-8l7dCf"
      }
    },
    {
      "cell_type": "code",
      "source": [
        "\n",
        "# Draw box plot to find outliers\n",
        "plt.figure(figsize=(18, 5))\n",
        "\n",
        "# Plot for log(price)\n",
        "plt.subplot(1, 3, 1)  # 1 row, 3 columns, 1st subplot\n",
        "sns.boxplot(x=np.log1p(usedCars['price']))\n",
        "plt.title(\"Log(Price)\")\n",
        "\n",
        "# Plot for log(odometer)\n",
        "plt.subplot(1, 3, 2)  # 1 row, 3 columns, 2nd subplot\n",
        "sns.boxplot(x=np.log1p(usedCars['odometer']))\n",
        "plt.title(\"Log(Odometer)\")\n",
        "\n",
        "# Plot for log(year)\n",
        "plt.subplot(1, 3, 3)  # 1 row, 3 columns, 3rd subplot\n",
        "sns.boxplot(x=usedCars['year'])\n",
        "plt.title(\"Year\")"
      ],
      "metadata": {
        "colab": {
          "base_uri": "https://localhost:8080/",
          "height": 503
        },
        "id": "lyvc4nAs7nNR",
        "outputId": "a50c5758-c279-4d67-ecb8-cacde2dfb966"
      },
      "execution_count": 12,
      "outputs": [
        {
          "output_type": "execute_result",
          "data": {
            "text/plain": [
              "Text(0.5, 1.0, 'Year')"
            ]
          },
          "metadata": {},
          "execution_count": 12
        },
        {
          "output_type": "display_data",
          "data": {
            "text/plain": [
              "<Figure size 1800x500 with 3 Axes>"
            ],
            "image/png": "[encoded data removed]"
          },
          "metadata": {}
        }
      ]
    },
    {
      "cell_type": "code",
      "source": [
        "# Remove Outliers from price- Take only data between 25 -1.5 IQR  - 75 = 1.5 IQR percentile\n",
        "\n",
        "#Price\n",
        "Q1 = usedCars['price'].quantile(0.25)\n",
        "Q3 = usedCars['price'].quantile(0.75)\n",
        "IQR = Q3 - Q1\n",
        "\n",
        "# Remove rows that have outliers on price\n",
        "usedCars = usedCars[(usedCars['price'] > (Q1 - 1.5 * IQR)) & (usedCars['price'] < (Q3 + 1.5 * IQR))]\n",
        "\n",
        "# Remove the rows that has price as zero.\n",
        "usedCars = usedCars[usedCars['price'] > 0]\n",
        "\n",
        "usedCars.describe()"
      ],
      "metadata": {
        "colab": {
          "base_uri": "https://localhost:8080/",
          "height": 291
        },
        "id": "AO_RZAz577Oy",
        "outputId": "cf828cdd-c852-46f1-a9d4-255a4bc89757"
      },
      "execution_count": 13,
      "outputs": [
        {
          "output_type": "execute_result",
          "data": {
            "text/plain": [
              "              price         year      odometer\n",
              "count      385808.0     384828.0      383596.0\n",
              "mean   17736.232976  2010.927583  99883.671621\n",
              "std    12763.498592     9.544252    206870.716\n",
              "min             1.0       1900.0           0.0\n",
              "25%          6999.0       2008.0       39558.0\n",
              "50%         14995.0       2013.0       88890.0\n",
              "75%         26900.0       2017.0      136468.5\n",
              "max         57341.0       2022.0    10000000.0"
            ],
            "text/html": [
              "\n",
              "  <div id=\"df-738144d2-2381-4f6b-934c-1832a7364a3f\" class=\"colab-df-container\">\n",
              "    <div>\n",
              "<style scoped>\n",
              "    .dataframe tbody tr th:only-of-type {\n",
              "        vertical-align: middle;\n",
              "    }\n",
              "\n",
              "    .dataframe tbody tr th {\n",
              "        vertical-align: top;\n",
              "    }\n",
              "\n",
              "    .dataframe thead th {\n",
              "        text-align: right;\n",
              "    }\n",
              "</style>\n",
              "<table border=\"1\" class=\"dataframe\">\n",
              "  <thead>\n",
              "    <tr style=\"text-align: right;\">\n",
              "      <th></th>\n",
              "      <th>price</th>\n",
              "      <th>year</th>\n",
              "      <th>odometer</th>\n",
              "    </tr>\n",
              "  </thead>\n",
              "  <tbody>\n",
              "    <tr>\n",
              "      <th>count</th>\n",
              "      <td>385808.0</td>\n",
              "      <td>384828.0</td>\n",
              "      <td>383596.0</td>\n",
              "    </tr>\n",
              "    <tr>\n",
              "      <th>mean</th>\n",
              "      <td>17736.232976</td>\n",
              "      <td>2010.927583</td>\n",
              "      <td>99883.671621</td>\n",
              "    </tr>\n",
              "    <tr>\n",
              "      <th>std</th>\n",
              "      <td>12763.498592</td>\n",
              "      <td>9.544252</td>\n",
              "      <td>206870.716</td>\n",
              "    </tr>\n",
              "    <tr>\n",
              "      <th>min</th>\n",
              "      <td>1.0</td>\n",
              "      <td>1900.0</td>\n",
              "      <td>0.0</td>\n",
              "    </tr>\n",
              "    <tr>\n",
              "      <th>25%</th>\n",
              "      <td>6999.0</td>\n",
              "      <td>2008.0</td>\n",
              "      <td>39558.0</td>\n",
              "    </tr>\n",
              "    <tr>\n",
              "      <th>50%</th>\n",
              "      <td>14995.0</td>\n",
              "      <td>2013.0</td>\n",
              "      <td>88890.0</td>\n",
              "    </tr>\n",
              "    <tr>\n",
              "      <th>75%</th>\n",
              "      <td>26900.0</td>\n",
              "      <td>2017.0</td>\n",
              "      <td>136468.5</td>\n",
              "    </tr>\n",
              "    <tr>\n",
              "      <th>max</th>\n",
              "      <td>57341.0</td>\n",
              "      <td>2022.0</td>\n",
              "      <td>10000000.0</td>\n",
              "    </tr>\n",
              "  </tbody>\n",
              "</table>\n",
              "</div>\n",
              "    <div class=\"colab-df-buttons\">\n",
              "\n",
              "  <div class=\"colab-df-container\">\n",
              "    <button class=\"colab-df-convert\" onclick=\"convertToInteractive('df-738144d2-2381-4f6b-934c-1832a7364a3f')\"\n",
              "            title=\"Convert this dataframe to an interactive table.\"\n",
              "            style=\"display:none;\">\n",
              "\n",
              "  <svg xmlns=\"http://www.w3.org/2000/svg\" height=\"24px\" viewBox=\"0 -960 960 960\">\n",
              "    <path d=\"M120-120v-720h720v720H120Zm60-500h600v-160H180v160Zm220 220h160v-160H400v160Zm0 220h160v-160H400v160ZM180-400h160v-160H180v160Zm440 0h160v-160H620v160ZM180-180h160v-160H180v160Zm440 0h160v-160H620v160Z\"/>\n",
              "  </svg>\n",
              "    </button>\n",
              "\n",
              "  <style>\n",
              "    .colab-df-container {\n",
              "      display:flex;\n",
              "      gap: 12px;\n",
              "    }\n",
              "\n",
              "    .colab-df-convert {\n",
              "      background-color: #E8F0FE;\n",
              "      border: none;\n",
              "      border-radius: 50%;\n",
              "      cursor: pointer;\n",
              "      display: none;\n",
              "      fill: #1967D2;\n",
              "      height: 32px;\n",
              "      padding: 0 0 0 0;\n",
              "      width: 32px;\n",
              "    }\n",
              "\n",
              "    .colab-df-convert:hover {\n",
              "      background-color: #E2EBFA;\n",
              "      box-shadow: 0px 1px 2px rgba(60, 64, 67, 0.3), 0px 1px 3px 1px rgba(60, 64, 67, 0.15);\n",
              "      fill: #174EA6;\n",
              "    }\n",
              "\n",
              "    .colab-df-buttons div {\n",
              "      margin-bottom: 4px;\n",
              "    }\n",
              "\n",
              "    [theme=dark] .colab-df-convert {\n",
              "      background-color: #3B4455;\n",
              "      fill: #D2E3FC;\n",
              "    }\n",
              "\n",
              "    [theme=dark] .colab-df-convert:hover {\n",
              "      background-color: #434B5C;\n",
              "      box-shadow: 0px 1px 3px 1px rgba(0, 0, 0, 0.15);\n",
              "      filter: drop-shadow(0px 1px 2px rgba(0, 0, 0, 0.3));\n",
              "      fill: #FFFFFF;\n",
              "    }\n",
              "  </style>\n",
              "\n",
              "    <script>\n",
              "      const buttonEl =\n",
              "        document.querySelector('#df-738144d2-2381-4f6b-934c-1832a7364a3f button.colab-df-convert');\n",
              "      buttonEl.style.display =\n",
              "        google.colab.kernel.accessAllowed ? 'block' : 'none';\n",
              "\n",
              "      async function convertToInteractive(key) {\n",
              "        const element = document.querySelector('#df-738144d2-2381-4f6b-934c-1832a7364a3f');\n",
              "        const dataTable =\n",
              "          await google.colab.kernel.invokeFunction('convertToInteractive',\n",
              "                                                    [key], {});\n",
              "        if (!dataTable) return;\n",
              "\n",
              "        const docLinkHtml = 'Like what you see? Visit the ' +\n",
              "          '<a target=\"_blank\" href=https://colab.research.google.com/notebooks/data_table.ipynb>data table notebook</a>'\n",
              "          + ' to learn more about interactive tables.';\n",
              "        element.innerHTML = '';\n",
              "        dataTable['output_type'] = 'display_data';\n",
              "        await google.colab.output.renderOutput(dataTable, element);\n",
              "        const docLink = document.createElement('div');\n",
              "        docLink.innerHTML = docLinkHtml;\n",
              "        element.appendChild(docLink);\n",
              "      }\n",
              "    </script>\n",
              "  </div>\n",
              "\n",
              "\n",
              "<div id=\"df-000f5d61-7de6-4128-9777-f8c781a65d54\">\n",
              "  <button class=\"colab-df-quickchart\" onclick=\"quickchart('df-000f5d61-7de6-4128-9777-f8c781a65d54')\"\n",
              "            title=\"Suggest charts\"\n",
              "            style=\"display:none;\">\n",
              "\n",
              "<svg xmlns=\"http://www.w3.org/2000/svg\" height=\"24px\"viewBox=\"0 0 24 24\"\n",
              "     width=\"24px\">\n",
              "    <g>\n",
              "        <path d=\"M19 3H5c-1.1 0-2 .9-2 2v14c0 1.1.9 2 2 2h14c1.1 0 2-.9 2-2V5c0-1.1-.9-2-2-2zM9 17H7v-7h2v7zm4 0h-2V7h2v10zm4 0h-2v-4h2v4z\"/>\n",
              "    </g>\n",
              "</svg>\n",
              "  </button>\n",
              "\n",
              "<style>\n",
              "  .colab-df-quickchart {\n",
              "      --bg-color: #E8F0FE;\n",
              "      --fill-color: #1967D2;\n",
              "      --hover-bg-color: #E2EBFA;\n",
              "      --hover-fill-color: #174EA6;\n",
              "      --disabled-fill-color: #AAA;\n",
              "      --disabled-bg-color: #DDD;\n",
              "  }\n",
              "\n",
              "  [theme=dark] .colab-df-quickchart {\n",
              "      --bg-color: #3B4455;\n",
              "      --fill-color: #D2E3FC;\n",
              "      --hover-bg-color: #434B5C;\n",
              "      --hover-fill-color: #FFFFFF;\n",
              "      --disabled-bg-color: #3B4455;\n",
              "      --disabled-fill-color: #666;\n",
              "  }\n",
              "\n",
              "  .colab-df-quickchart {\n",
              "    background-color: var(--bg-color);\n",
              "    border: none;\n",
              "    border-radius: 50%;\n",
              "    cursor: pointer;\n",
              "    display: none;\n",
              "    fill: var(--fill-color);\n",
              "    height: 32px;\n",
              "    padding: 0;\n",
              "    width: 32px;\n",
              "  }\n",
              "\n",
              "  .colab-df-quickchart:hover {\n",
              "    background-color: var(--hover-bg-color);\n",
              "    box-shadow: 0 1px 2px rgba(60, 64, 67, 0.3), 0 1px 3px 1px rgba(60, 64, 67, 0.15);\n",
              "    fill: var(--button-hover-fill-color);\n",
              "  }\n",
              "\n",
              "  .colab-df-quickchart-complete:disabled,\n",
              "  .colab-df-quickchart-complete:disabled:hover {\n",
              "    background-color: var(--disabled-bg-color);\n",
              "    fill: var(--disabled-fill-color);\n",
              "    box-shadow: none;\n",
              "  }\n",
              "\n",
              "  .colab-df-spinner {\n",
              "    border: 2px solid var(--fill-color);\n",
              "    border-color: transparent;\n",
              "    border-bottom-color: var(--fill-color);\n",
              "    animation:\n",
              "      spin 1s steps(1) infinite;\n",
              "  }\n",
              "\n",
              "  @keyframes spin {\n",
              "    0% {\n",
              "      border-color: transparent;\n",
              "      border-bottom-color: var(--fill-color);\n",
              "      border-left-color: var(--fill-color);\n",
              "    }\n",
              "    20% {\n",
              "      border-color: transparent;\n",
              "      border-left-color: var(--fill-color);\n",
              "      border-top-color: var(--fill-color);\n",
              "    }\n",
              "    30% {\n",
              "      border-color: transparent;\n",
              "      border-left-color: var(--fill-color);\n",
              "      border-top-color: var(--fill-color);\n",
              "      border-right-color: var(--fill-color);\n",
              "    }\n",
              "    40% {\n",
              "      border-color: transparent;\n",
              "      border-right-color: var(--fill-color);\n",
              "      border-top-color: var(--fill-color);\n",
              "    }\n",
              "    60% {\n",
              "      border-color: transparent;\n",
              "      border-right-color: var(--fill-color);\n",
              "    }\n",
              "    80% {\n",
              "      border-color: transparent;\n",
              "      border-right-color: var(--fill-color);\n",
              "      border-bottom-color: var(--fill-color);\n",
              "    }\n",
              "    90% {\n",
              "      border-color: transparent;\n",
              "      border-bottom-color: var(--fill-color);\n",
              "    }\n",
              "  }\n",
              "</style>\n",
              "\n",
              "  <script>\n",
              "    async function quickchart(key) {\n",
              "      const quickchartButtonEl =\n",
              "        document.querySelector('#' + key + ' button');\n",
              "      quickchartButtonEl.disabled = true;  // To prevent multiple clicks.\n",
              "      quickchartButtonEl.classList.add('colab-df-spinner');\n",
              "      try {\n",
              "        const charts = await google.colab.kernel.invokeFunction(\n",
              "            'suggestCharts', [key], {});\n",
              "      } catch (error) {\n",
              "        console.error('Error during call to suggestCharts:', error);\n",
              "      }\n",
              "      quickchartButtonEl.classList.remove('colab-df-spinner');\n",
              "      quickchartButtonEl.classList.add('colab-df-quickchart-complete');\n",
              "    }\n",
              "    (() => {\n",
              "      let quickchartButtonEl =\n",
              "        document.querySelector('#df-000f5d61-7de6-4128-9777-f8c781a65d54 button');\n",
              "      quickchartButtonEl.style.display =\n",
              "        google.colab.kernel.accessAllowed ? 'block' : 'none';\n",
              "    })();\n",
              "  </script>\n",
              "</div>\n",
              "\n",
              "    </div>\n",
              "  </div>\n"
            ],
            "application/vnd.google.colaboratory.intrinsic+json": {
              "type": "dataframe",
              "summary": "{\n  \"name\": \"usedCars\",\n  \"rows\": 8,\n  \"fields\": [\n    {\n      \"column\": \"price\",\n      \"properties\": {\n        \"dtype\": \"Float64\",\n        \"num_unique_values\": 8,\n        \"samples\": [\n          17736.232975988056,\n          14995.0,\n          385808.0\n        ],\n        \"semantic_type\": \"\",\n        \"description\": \"\"\n      }\n    },\n    {\n      \"column\": \"year\",\n      \"properties\": {\n        \"dtype\": \"Float64\",\n        \"num_unique_values\": 8,\n        \"samples\": [\n          2010.9275832319893,\n          2013.0,\n          384828.0\n        ],\n        \"semantic_type\": \"\",\n        \"description\": \"\"\n      }\n    },\n    {\n      \"column\": \"odometer\",\n      \"properties\": {\n        \"dtype\": \"Float64\",\n        \"num_unique_values\": 8,\n        \"samples\": [\n          99883.6716206634,\n          88890.0,\n          383596.0\n        ],\n        \"semantic_type\": \"\",\n        \"description\": \"\"\n      }\n    }\n  ]\n}"
            }
          },
          "metadata": {},
          "execution_count": 13
        }
      ]
    },
    {
      "cell_type": "code",
      "source": [
        "\n",
        "# Check the outliers with odometer\n",
        "odometer_400 = usedCars[usedCars['odometer'] < 400000]\n",
        "\n",
        "# There are 1415  rows with mileage greater than 400000\n",
        "# Replace them with the mean of the odometer reading for year\n",
        "usedCars.loc[usedCars['odometer'] > 400000, 'odometer'] = odometer_400.groupby('year')['odometer'].mean()\n",
        "usedCars.describe()"
      ],
      "metadata": {
        "colab": {
          "base_uri": "https://localhost:8080/",
          "height": 291
        },
        "id": "rDlbHMC-5KhO",
        "outputId": "649ae44a-8206-4487-d576-4810489fa2ae"
      },
      "execution_count": 14,
      "outputs": [
        {
          "output_type": "execute_result",
          "data": {
            "text/plain": [
              "              price         year      odometer\n",
              "count      385808.0     384828.0      382150.0\n",
              "mean   17736.232976  2010.927583  93284.983752\n",
              "std    12763.498592     9.544252  63223.584986\n",
              "min             1.0       1900.0           0.0\n",
              "25%          6999.0       2008.0       39385.0\n",
              "50%         14995.0       2013.0       88394.5\n",
              "75%         26900.0       2017.0      135913.0\n",
              "max         57341.0       2022.0      400000.0"
            ],
            "text/html": [
              "\n",
              "  <div id=\"df-58085381-5a40-418c-8141-1b8732837ee0\" class=\"colab-df-container\">\n",
              "    <div>\n",
              "<style scoped>\n",
              "    .dataframe tbody tr th:only-of-type {\n",
              "        vertical-align: middle;\n",
              "    }\n",
              "\n",
              "    .dataframe tbody tr th {\n",
              "        vertical-align: top;\n",
              "    }\n",
              "\n",
              "    .dataframe thead th {\n",
              "        text-align: right;\n",
              "    }\n",
              "</style>\n",
              "<table border=\"1\" class=\"dataframe\">\n",
              "  <thead>\n",
              "    <tr style=\"text-align: right;\">\n",
              "      <th></th>\n",
              "      <th>price</th>\n",
              "      <th>year</th>\n",
              "      <th>odometer</th>\n",
              "    </tr>\n",
              "  </thead>\n",
              "  <tbody>\n",
              "    <tr>\n",
              "      <th>count</th>\n",
              "      <td>385808.0</td>\n",
              "      <td>384828.0</td>\n",
              "      <td>382150.0</td>\n",
              "    </tr>\n",
              "    <tr>\n",
              "      <th>mean</th>\n",
              "      <td>17736.232976</td>\n",
              "      <td>2010.927583</td>\n",
              "      <td>93284.983752</td>\n",
              "    </tr>\n",
              "    <tr>\n",
              "      <th>std</th>\n",
              "      <td>12763.498592</td>\n",
              "      <td>9.544252</td>\n",
              "      <td>63223.584986</td>\n",
              "    </tr>\n",
              "    <tr>\n",
              "      <th>min</th>\n",
              "      <td>1.0</td>\n",
              "      <td>1900.0</td>\n",
              "      <td>0.0</td>\n",
              "    </tr>\n",
              "    <tr>\n",
              "      <th>25%</th>\n",
              "      <td>6999.0</td>\n",
              "      <td>2008.0</td>\n",
              "      <td>39385.0</td>\n",
              "    </tr>\n",
              "    <tr>\n",
              "      <th>50%</th>\n",
              "      <td>14995.0</td>\n",
              "      <td>2013.0</td>\n",
              "      <td>88394.5</td>\n",
              "    </tr>\n",
              "    <tr>\n",
              "      <th>75%</th>\n",
              "      <td>26900.0</td>\n",
              "      <td>2017.0</td>\n",
              "      <td>135913.0</td>\n",
              "    </tr>\n",
              "    <tr>\n",
              "      <th>max</th>\n",
              "      <td>57341.0</td>\n",
              "      <td>2022.0</td>\n",
              "      <td>400000.0</td>\n",
              "    </tr>\n",
              "  </tbody>\n",
              "</table>\n",
              "</div>\n",
              "    <div class=\"colab-df-buttons\">\n",
              "\n",
              "  <div class=\"colab-df-container\">\n",
              "    <button class=\"colab-df-convert\" onclick=\"convertToInteractive('df-58085381-5a40-418c-8141-1b8732837ee0')\"\n",
              "            title=\"Convert this dataframe to an interactive table.\"\n",
              "            style=\"display:none;\">\n",
              "\n",
              "  <svg xmlns=\"http://www.w3.org/2000/svg\" height=\"24px\" viewBox=\"0 -960 960 960\">\n",
              "    <path d=\"M120-120v-720h720v720H120Zm60-500h600v-160H180v160Zm220 220h160v-160H400v160Zm0 220h160v-160H400v160ZM180-400h160v-160H180v160Zm440 0h160v-160H620v160ZM180-180h160v-160H180v160Zm440 0h160v-160H620v160Z\"/>\n",
              "  </svg>\n",
              "    </button>\n",
              "\n",
              "  <style>\n",
              "    .colab-df-container {\n",
              "      display:flex;\n",
              "      gap: 12px;\n",
              "    }\n",
              "\n",
              "    .colab-df-convert {\n",
              "      background-color: #E8F0FE;\n",
              "      border: none;\n",
              "      border-radius: 50%;\n",
              "      cursor: pointer;\n",
              "      display: none;\n",
              "      fill: #1967D2;\n",
              "      height: 32px;\n",
              "      padding: 0 0 0 0;\n",
              "      width: 32px;\n",
              "    }\n",
              "\n",
              "    .colab-df-convert:hover {\n",
              "      background-color: #E2EBFA;\n",
              "      box-shadow: 0px 1px 2px rgba(60, 64, 67, 0.3), 0px 1px 3px 1px rgba(60, 64, 67, 0.15);\n",
              "      fill: #174EA6;\n",
              "    }\n",
              "\n",
              "    .colab-df-buttons div {\n",
              "      margin-bottom: 4px;\n",
              "    }\n",
              "\n",
              "    [theme=dark] .colab-df-convert {\n",
              "      background-color: #3B4455;\n",
              "      fill: #D2E3FC;\n",
              "    }\n",
              "\n",
              "    [theme=dark] .colab-df-convert:hover {\n",
              "      background-color: #434B5C;\n",
              "      box-shadow: 0px 1px 3px 1px rgba(0, 0, 0, 0.15);\n",
              "      filter: drop-shadow(0px 1px 2px rgba(0, 0, 0, 0.3));\n",
              "      fill: #FFFFFF;\n",
              "    }\n",
              "  </style>\n",
              "\n",
              "    <script>\n",
              "      const buttonEl =\n",
              "        document.querySelector('#df-58085381-5a40-418c-8141-1b8732837ee0 button.colab-df-convert');\n",
              "      buttonEl.style.display =\n",
              "        google.colab.kernel.accessAllowed ? 'block' : 'none';\n",
              "\n",
              "      async function convertToInteractive(key) {\n",
              "        const element = document.querySelector('#df-58085381-5a40-418c-8141-1b8732837ee0');\n",
              "        const dataTable =\n",
              "          await google.colab.kernel.invokeFunction('convertToInteractive',\n",
              "                                                    [key], {});\n",
              "        if (!dataTable) return;\n",
              "\n",
              "        const docLinkHtml = 'Like what you see? Visit the ' +\n",
              "          '<a target=\"_blank\" href=https://colab.research.google.com/notebooks/data_table.ipynb>data table notebook</a>'\n",
              "          + ' to learn more about interactive tables.';\n",
              "        element.innerHTML = '';\n",
              "        dataTable['output_type'] = 'display_data';\n",
              "        await google.colab.output.renderOutput(dataTable, element);\n",
              "        const docLink = document.createElement('div');\n",
              "        docLink.innerHTML = docLinkHtml;\n",
              "        element.appendChild(docLink);\n",
              "      }\n",
              "    </script>\n",
              "  </div>\n",
              "\n",
              "\n",
              "<div id=\"df-2e1367b8-f6ae-44aa-80d7-b08a230d9cdc\">\n",
              "  <button class=\"colab-df-quickchart\" onclick=\"quickchart('df-2e1367b8-f6ae-44aa-80d7-b08a230d9cdc')\"\n",
              "            title=\"Suggest charts\"\n",
              "            style=\"display:none;\">\n",
              "\n",
              "<svg xmlns=\"http://www.w3.org/2000/svg\" height=\"24px\"viewBox=\"0 0 24 24\"\n",
              "     width=\"24px\">\n",
              "    <g>\n",
              "        <path d=\"M19 3H5c-1.1 0-2 .9-2 2v14c0 1.1.9 2 2 2h14c1.1 0 2-.9 2-2V5c0-1.1-.9-2-2-2zM9 17H7v-7h2v7zm4 0h-2V7h2v10zm4 0h-2v-4h2v4z\"/>\n",
              "    </g>\n",
              "</svg>\n",
              "  </button>\n",
              "\n",
              "<style>\n",
              "  .colab-df-quickchart {\n",
              "      --bg-color: #E8F0FE;\n",
              "      --fill-color: #1967D2;\n",
              "      --hover-bg-color: #E2EBFA;\n",
              "      --hover-fill-color: #174EA6;\n",
              "      --disabled-fill-color: #AAA;\n",
              "      --disabled-bg-color: #DDD;\n",
              "  }\n",
              "\n",
              "  [theme=dark] .colab-df-quickchart {\n",
              "      --bg-color: #3B4455;\n",
              "      --fill-color: #D2E3FC;\n",
              "      --hover-bg-color: #434B5C;\n",
              "      --hover-fill-color: #FFFFFF;\n",
              "      --disabled-bg-color: #3B4455;\n",
              "      --disabled-fill-color: #666;\n",
              "  }\n",
              "\n",
              "  .colab-df-quickchart {\n",
              "    background-color: var(--bg-color);\n",
              "    border: none;\n",
              "    border-radius: 50%;\n",
              "    cursor: pointer;\n",
              "    display: none;\n",
              "    fill: var(--fill-color);\n",
              "    height: 32px;\n",
              "    padding: 0;\n",
              "    width: 32px;\n",
              "  }\n",
              "\n",
              "  .colab-df-quickchart:hover {\n",
              "    background-color: var(--hover-bg-color);\n",
              "    box-shadow: 0 1px 2px rgba(60, 64, 67, 0.3), 0 1px 3px 1px rgba(60, 64, 67, 0.15);\n",
              "    fill: var(--button-hover-fill-color);\n",
              "  }\n",
              "\n",
              "  .colab-df-quickchart-complete:disabled,\n",
              "  .colab-df-quickchart-complete:disabled:hover {\n",
              "    background-color: var(--disabled-bg-color);\n",
              "    fill: var(--disabled-fill-color);\n",
              "    box-shadow: none;\n",
              "  }\n",
              "\n",
              "  .colab-df-spinner {\n",
              "    border: 2px solid var(--fill-color);\n",
              "    border-color: transparent;\n",
              "    border-bottom-color: var(--fill-color);\n",
              "    animation:\n",
              "      spin 1s steps(1) infinite;\n",
              "  }\n",
              "\n",
              "  @keyframes spin {\n",
              "    0% {\n",
              "      border-color: transparent;\n",
              "      border-bottom-color: var(--fill-color);\n",
              "      border-left-color: var(--fill-color);\n",
              "    }\n",
              "    20% {\n",
              "      border-color: transparent;\n",
              "      border-left-color: var(--fill-color);\n",
              "      border-top-color: var(--fill-color);\n",
              "    }\n",
              "    30% {\n",
              "      border-color: transparent;\n",
              "      border-left-color: var(--fill-color);\n",
              "      border-top-color: var(--fill-color);\n",
              "      border-right-color: var(--fill-color);\n",
              "    }\n",
              "    40% {\n",
              "      border-color: transparent;\n",
              "      border-right-color: var(--fill-color);\n",
              "      border-top-color: var(--fill-color);\n",
              "    }\n",
              "    60% {\n",
              "      border-color: transparent;\n",
              "      border-right-color: var(--fill-color);\n",
              "    }\n",
              "    80% {\n",
              "      border-color: transparent;\n",
              "      border-right-color: var(--fill-color);\n",
              "      border-bottom-color: var(--fill-color);\n",
              "    }\n",
              "    90% {\n",
              "      border-color: transparent;\n",
              "      border-bottom-color: var(--fill-color);\n",
              "    }\n",
              "  }\n",
              "</style>\n",
              "\n",
              "  <script>\n",
              "    async function quickchart(key) {\n",
              "      const quickchartButtonEl =\n",
              "        document.querySelector('#' + key + ' button');\n",
              "      quickchartButtonEl.disabled = true;  // To prevent multiple clicks.\n",
              "      quickchartButtonEl.classList.add('colab-df-spinner');\n",
              "      try {\n",
              "        const charts = await google.colab.kernel.invokeFunction(\n",
              "            'suggestCharts', [key], {});\n",
              "      } catch (error) {\n",
              "        console.error('Error during call to suggestCharts:', error);\n",
              "      }\n",
              "      quickchartButtonEl.classList.remove('colab-df-spinner');\n",
              "      quickchartButtonEl.classList.add('colab-df-quickchart-complete');\n",
              "    }\n",
              "    (() => {\n",
              "      let quickchartButtonEl =\n",
              "        document.querySelector('#df-2e1367b8-f6ae-44aa-80d7-b08a230d9cdc button');\n",
              "      quickchartButtonEl.style.display =\n",
              "        google.colab.kernel.accessAllowed ? 'block' : 'none';\n",
              "    })();\n",
              "  </script>\n",
              "</div>\n",
              "\n",
              "    </div>\n",
              "  </div>\n"
            ],
            "application/vnd.google.colaboratory.intrinsic+json": {
              "type": "dataframe",
              "summary": "{\n  \"name\": \"usedCars\",\n  \"rows\": 8,\n  \"fields\": [\n    {\n      \"column\": \"price\",\n      \"properties\": {\n        \"dtype\": \"Float64\",\n        \"num_unique_values\": 8,\n        \"samples\": [\n          17736.232975988056,\n          14995.0,\n          385808.0\n        ],\n        \"semantic_type\": \"\",\n        \"description\": \"\"\n      }\n    },\n    {\n      \"column\": \"year\",\n      \"properties\": {\n        \"dtype\": \"Float64\",\n        \"num_unique_values\": 8,\n        \"samples\": [\n          2010.9275832319893,\n          2013.0,\n          384828.0\n        ],\n        \"semantic_type\": \"\",\n        \"description\": \"\"\n      }\n    },\n    {\n      \"column\": \"odometer\",\n      \"properties\": {\n        \"dtype\": \"Float64\",\n        \"num_unique_values\": 8,\n        \"samples\": [\n          93284.98375245322,\n          88394.5,\n          382150.0\n        ],\n        \"semantic_type\": \"\",\n        \"description\": \"\"\n      }\n    }\n  ]\n}"
            }
          },
          "metadata": {},
          "execution_count": 14
        }
      ]
    },
    {
      "cell_type": "code",
      "source": [
        "# odometer value increases price decreases\n",
        "plt.scatter(usedCars['odometer'], usedCars['price'],  marker='o')"
      ],
      "metadata": {
        "colab": {
          "base_uri": "https://localhost:8080/",
          "height": 450
        },
        "id": "YBsIwMWcDJiw",
        "outputId": "7753587f-f938-486f-82ef-01995f0a7709"
      },
      "execution_count": 15,
      "outputs": [
        {
          "output_type": "execute_result",
          "data": {
            "text/plain": [
              "<matplotlib.collections.PathCollection at 0x7f44dbf1dcd0>"
            ]
          },
          "metadata": {},
          "execution_count": 15
        },
        {
          "output_type": "display_data",
          "data": {
            "text/plain": [
              "<Figure size 640x480 with 1 Axes>"
            ],
            "image/png": "[encoded data removed]"
          },
          "metadata": {}
        }
      ]
    },
    {
      "cell_type": "code",
      "source": [
        "# year increases price increases\n",
        "plt.scatter(usedCars['year'], usedCars['price'],  marker='o')\n"
      ],
      "metadata": {
        "colab": {
          "base_uri": "https://localhost:8080/",
          "height": 450
        },
        "id": "dkQGZ1V2DYeh",
        "outputId": "3f1d7fd6-ecd4-4152-c87f-30f5f3d14f16"
      },
      "execution_count": 16,
      "outputs": [
        {
          "output_type": "execute_result",
          "data": {
            "text/plain": [
              "<matplotlib.collections.PathCollection at 0x7f44ddb13710>"
            ]
          },
          "metadata": {},
          "execution_count": 16
        },
        {
          "output_type": "display_data",
          "data": {
            "text/plain": [
              "<Figure size 640x480 with 1 Axes>"
            ],
            "image/png": "[encoded data removed]"
          },
          "metadata": {}
        }
      ]
    },
    {
      "cell_type": "code",
      "execution_count": 17,
      "metadata": {
        "id": "3OhjCWwb2LwM",
        "colab": {
          "base_uri": "https://localhost:8080/",
          "height": 544
        },
        "outputId": "ec6351be-cfa1-4599-ed7c-7a043aa1e87b"
      },
      "outputs": [
        {
          "output_type": "display_data",
          "data": {
            "text/plain": [
              "<Figure size 800x600 with 2 Axes>"
            ],
            "image/png": "[encoded data removed]"
          },
          "metadata": {}
        }
      ],
      "source": [
        "#usedCars[['model']]\n",
        "\n",
        "correlation_matrix = usedCars.select_dtypes(include=['number']).corr()\n",
        "plt.figure(figsize=(8, 6))\n",
        "sns.heatmap(correlation_matrix, annot=True, cmap='coolwarm', fmt=\".2f\", vmin=-1, vmax=1, square=True)\n",
        "plt.title('Correlation Matrix')\n",
        "plt.show()"
      ]
    },
    {
      "cell_type": "markdown",
      "metadata": {
        "id": "4wEDXjGN2LwM"
      },
      "source": [
        "### Data Preparation\n",
        "\n",
        "After our initial exploration and fine-tuning of the business understanding, it is time to construct our final dataset prior to modeling.  Here, we want to make sure to handle any integrity issues and cleaning, the engineering of new features, any transformations that we believe should happen (scaling, logarithms, normalization, etc.), and general preparation for modeling with `sklearn`."
      ]
    },
    {
      "cell_type": "markdown",
      "source": [
        "# Objectives\n",
        "We have 2 main objectives\n",
        "\n",
        "\n",
        "*   Handle Missing data in category columns\n",
        "*   Convert category ordinal columns to numeric columns\n",
        "\n",
        "We will user **OneHotEncoder** , **OrdinalEncoder**, **James-Stein encoder** for preparing the data \\\n",
        "\n",
        "We habe to handle the following columns :\n",
        "*   condition\n",
        "*   cylinders\n",
        "*   manufacturer\n",
        "*   model\n",
        "*   title_status\n",
        "*   drive\n",
        "*   type\n",
        "*   paint_color\n",
        "*   state\n",
        "*   odometer\n",
        "\n",
        "\n"
      ],
      "metadata": {
        "id": "I42MFVAUD7nA"
      }
    },
    {
      "cell_type": "markdown",
      "source": [
        "**1) Clean Condition Column**"
      ],
      "metadata": {
        "id": "N1rObzQRFHpC"
      }
    },
    {
      "cell_type": "code",
      "source": [
        "# Clean condition column\n",
        "# Replace with weights\n",
        "condition_params = {\n",
        "    'salvage': 0,\n",
        "    'fair': 1,\n",
        "    'good': 2,\n",
        "    'like new': 3,\n",
        "    'excellent': 4,\n",
        "    'new': 5,\n",
        "    'unknown': -1  # missing data\n",
        "}\n",
        "usedCars['condition'] = usedCars['condition'].fillna('unknown')\n",
        "usedCars['condition'] = usedCars['condition'].map(condition_params)"
      ],
      "metadata": {
        "id": "5xkSorJzFULC"
      },
      "execution_count": 18,
      "outputs": []
    },
    {
      "cell_type": "code",
      "source": [
        "usedCars['condition'].value_counts()"
      ],
      "metadata": {
        "colab": {
          "base_uri": "https://localhost:8080/",
          "height": 324
        },
        "id": "0eseIVk8FoIZ",
        "outputId": "218b3757-7851-48e5-d4c8-d18f17efd4ed"
      },
      "execution_count": 19,
      "outputs": [
        {
          "output_type": "execute_result",
          "data": {
            "text/plain": [
              "condition\n",
              "-1    146128\n",
              " 2    118450\n",
              " 4     93507\n",
              " 3     19419\n",
              " 1      6715\n",
              " 5       994\n",
              " 0       595\n",
              "Name: count, dtype: int64"
            ],
            "text/html": [
              "<div>\n",
              "<style scoped>\n",
              "    .dataframe tbody tr th:only-of-type {\n",
              "        vertical-align: middle;\n",
              "    }\n",
              "\n",
              "    .dataframe tbody tr th {\n",
              "        vertical-align: top;\n",
              "    }\n",
              "\n",
              "    .dataframe thead th {\n",
              "        text-align: right;\n",
              "    }\n",
              "</style>\n",
              "<table border=\"1\" class=\"dataframe\">\n",
              "  <thead>\n",
              "    <tr style=\"text-align: right;\">\n",
              "      <th></th>\n",
              "      <th>count</th>\n",
              "    </tr>\n",
              "    <tr>\n",
              "      <th>condition</th>\n",
              "      <th></th>\n",
              "    </tr>\n",
              "  </thead>\n",
              "  <tbody>\n",
              "    <tr>\n",
              "      <th>-1</th>\n",
              "      <td>146128</td>\n",
              "    </tr>\n",
              "    <tr>\n",
              "      <th>2</th>\n",
              "      <td>118450</td>\n",
              "    </tr>\n",
              "    <tr>\n",
              "      <th>4</th>\n",
              "      <td>93507</td>\n",
              "    </tr>\n",
              "    <tr>\n",
              "      <th>3</th>\n",
              "      <td>19419</td>\n",
              "    </tr>\n",
              "    <tr>\n",
              "      <th>1</th>\n",
              "      <td>6715</td>\n",
              "    </tr>\n",
              "    <tr>\n",
              "      <th>5</th>\n",
              "      <td>994</td>\n",
              "    </tr>\n",
              "    <tr>\n",
              "      <th>0</th>\n",
              "      <td>595</td>\n",
              "    </tr>\n",
              "  </tbody>\n",
              "</table>\n",
              "</div><br><label><b>dtype:</b> int64</label>"
            ]
          },
          "metadata": {},
          "execution_count": 19
        }
      ]
    },
    {
      "cell_type": "markdown",
      "source": [
        "**2) Clean Cylinders Column**"
      ],
      "metadata": {
        "id": "g_--4WX1FvC8"
      }
    },
    {
      "cell_type": "code",
      "source": [
        "### Clean cylinders column\n",
        "# Replace with weights\n",
        "cylinder_params = {\n",
        "    '3 cylinders': 0,\n",
        "    '4 cylinders': 1,\n",
        "    '5 cylinders': 2,\n",
        "    '6 cylinders': 3,\n",
        "    '8 cylinders': 4,\n",
        "    '10 cylinders': 5,\n",
        "    '12 cylinders': 6,\n",
        "    'other': 7,\n",
        "    'unknown': -1  # For missing data\n",
        "}\n",
        "usedCars['cylinders'] = usedCars['cylinders'].fillna('unknown')\n",
        "usedCars['cylinders'] = usedCars['cylinders'].map(cylinder_params)"
      ],
      "metadata": {
        "id": "nuVJvyO4GEtd"
      },
      "execution_count": 20,
      "outputs": []
    },
    {
      "cell_type": "code",
      "execution_count": 21,
      "metadata": {
        "id": "dkM2BhXb2LwN",
        "colab": {
          "base_uri": "https://localhost:8080/",
          "height": 385
        },
        "outputId": "6f7c11b9-74c7-46ac-f009-66f18316b164"
      },
      "outputs": [
        {
          "output_type": "execute_result",
          "data": {
            "text/plain": [
              "cylinders\n",
              "-1    156495\n",
              " 3     87605\n",
              " 1     72941\n",
              " 4     64029\n",
              " 2      1667\n",
              " 5      1323\n",
              " 7       999\n",
              " 0       604\n",
              " 6       145\n",
              "Name: count, dtype: int64"
            ],
            "text/html": [
              "<div>\n",
              "<style scoped>\n",
              "    .dataframe tbody tr th:only-of-type {\n",
              "        vertical-align: middle;\n",
              "    }\n",
              "\n",
              "    .dataframe tbody tr th {\n",
              "        vertical-align: top;\n",
              "    }\n",
              "\n",
              "    .dataframe thead th {\n",
              "        text-align: right;\n",
              "    }\n",
              "</style>\n",
              "<table border=\"1\" class=\"dataframe\">\n",
              "  <thead>\n",
              "    <tr style=\"text-align: right;\">\n",
              "      <th></th>\n",
              "      <th>count</th>\n",
              "    </tr>\n",
              "    <tr>\n",
              "      <th>cylinders</th>\n",
              "      <th></th>\n",
              "    </tr>\n",
              "  </thead>\n",
              "  <tbody>\n",
              "    <tr>\n",
              "      <th>-1</th>\n",
              "      <td>156495</td>\n",
              "    </tr>\n",
              "    <tr>\n",
              "      <th>3</th>\n",
              "      <td>87605</td>\n",
              "    </tr>\n",
              "    <tr>\n",
              "      <th>1</th>\n",
              "      <td>72941</td>\n",
              "    </tr>\n",
              "    <tr>\n",
              "      <th>4</th>\n",
              "      <td>64029</td>\n",
              "    </tr>\n",
              "    <tr>\n",
              "      <th>2</th>\n",
              "      <td>1667</td>\n",
              "    </tr>\n",
              "    <tr>\n",
              "      <th>5</th>\n",
              "      <td>1323</td>\n",
              "    </tr>\n",
              "    <tr>\n",
              "      <th>7</th>\n",
              "      <td>999</td>\n",
              "    </tr>\n",
              "    <tr>\n",
              "      <th>0</th>\n",
              "      <td>604</td>\n",
              "    </tr>\n",
              "    <tr>\n",
              "      <th>6</th>\n",
              "      <td>145</td>\n",
              "    </tr>\n",
              "  </tbody>\n",
              "</table>\n",
              "</div><br><label><b>dtype:</b> int64</label>"
            ]
          },
          "metadata": {},
          "execution_count": 21
        }
      ],
      "source": [
        "usedCars['cylinders'].value_counts()\n"
      ]
    },
    {
      "cell_type": "markdown",
      "source": [
        "**3)Clean Paint color Column**"
      ],
      "metadata": {
        "id": "IHekBBNQFUEL"
      }
    },
    {
      "cell_type": "code",
      "source": [
        "print(usedCars['paint_color'].value_counts(normalize=True) * 100)\n",
        "print(usedCars['paint_color'].isnull().sum()/usedCars['paint_color'].count() * 100)\n",
        "## We have 40% missing values in paint_color\n",
        "## we will not consider this column in our analysis\n",
        "usedCars = usedCars.drop(columns=['paint_color'])\n"
      ],
      "metadata": {
        "colab": {
          "base_uri": "https://localhost:8080/"
        },
        "id": "JgEgubAVFNZt",
        "outputId": "148b5e30-1e03-4be6-b565-c165a979f863"
      },
      "execution_count": 22,
      "outputs": [
        {
          "output_type": "stream",
          "name": "stdout",
          "text": [
            "paint_color\n",
            "white     26.092617\n",
            "black     20.994106\n",
            "silver    14.640146\n",
            "blue       10.72996\n",
            "red       10.425318\n",
            "grey       8.284711\n",
            "green       2.58835\n",
            "custom     2.332392\n",
            "brown      2.263054\n",
            "yellow     0.732837\n",
            "orange     0.673089\n",
            "purple     0.243418\n",
            "Name: proportion, dtype: Float64\n",
            "42.292116929386516\n"
          ]
        }
      ]
    },
    {
      "cell_type": "markdown",
      "source": [
        "**4) Clean Drive Column**"
      ],
      "metadata": {
        "id": "yYwtvSVmFHZ9"
      }
    },
    {
      "cell_type": "code",
      "source": [
        "print(usedCars['drive'].value_counts(normalize=True) * 100)\n",
        "print(usedCars['drive'].isnull().sum()/usedCars['transmission'].count() * 100)\n",
        "## We 31% missing and comparable values for 4wd fwd and rwd (39,38,21)\n",
        "## we will not consider this column in our analysis\n",
        "usedCars = usedCars.drop(columns=['drive'])\n",
        "usedCars.shape"
      ],
      "metadata": {
        "colab": {
          "base_uri": "https://localhost:8080/"
        },
        "id": "qg1JeCaAFGzX",
        "outputId": "256a2b37-a71b-4507-bd1d-480aa395c0ea"
      },
      "execution_count": 23,
      "outputs": [
        {
          "output_type": "stream",
          "name": "stdout",
          "text": [
            "drive\n",
            "4wd     43.30134\n",
            "fwd    36.402454\n",
            "rwd    20.296206\n",
            "Name: proportion, dtype: Float64\n",
            "30.818482913772094\n"
          ]
        },
        {
          "output_type": "execute_result",
          "data": {
            "text/plain": [
              "(385808, 13)"
            ]
          },
          "metadata": {},
          "execution_count": 23
        }
      ]
    },
    {
      "cell_type": "code",
      "source": [
        "# Split data to Test and Train. We need to make sure to not train the model on test data so that we can cross validate\n",
        "X_train, X_test, y_train, y_test = train_test_split(usedCars.drop('price', axis=1), usedCars['price'], test_size=0.2, random_state=42)"
      ],
      "metadata": {
        "id": "b7kNUBi-FBo3"
      },
      "execution_count": 24,
      "outputs": []
    },
    {
      "cell_type": "markdown",
      "source": [
        "**5) Clean Fuel Column**"
      ],
      "metadata": {
        "id": "xCH_0rNOHiwE"
      }
    },
    {
      "cell_type": "code",
      "source": [
        "usedCars['fuel'].value_counts(normalize=True) * 100\n"
      ],
      "metadata": {
        "colab": {
          "base_uri": "https://localhost:8080/",
          "height": 264
        },
        "id": "gau97ukMOaux",
        "outputId": "0ea2587d-eb61-4a2c-a187-0799b11fd2db"
      },
      "execution_count": 25,
      "outputs": [
        {
          "output_type": "execute_result",
          "data": {
            "text/plain": [
              "fuel\n",
              "gas         85.30401\n",
              "other       7.084206\n",
              "diesel      5.938773\n",
              "hybrid      1.266761\n",
              "electric    0.406251\n",
              "Name: proportion, dtype: Float64"
            ],
            "text/html": [
              "<div>\n",
              "<style scoped>\n",
              "    .dataframe tbody tr th:only-of-type {\n",
              "        vertical-align: middle;\n",
              "    }\n",
              "\n",
              "    .dataframe tbody tr th {\n",
              "        vertical-align: top;\n",
              "    }\n",
              "\n",
              "    .dataframe thead th {\n",
              "        text-align: right;\n",
              "    }\n",
              "</style>\n",
              "<table border=\"1\" class=\"dataframe\">\n",
              "  <thead>\n",
              "    <tr style=\"text-align: right;\">\n",
              "      <th></th>\n",
              "      <th>proportion</th>\n",
              "    </tr>\n",
              "    <tr>\n",
              "      <th>fuel</th>\n",
              "      <th></th>\n",
              "    </tr>\n",
              "  </thead>\n",
              "  <tbody>\n",
              "    <tr>\n",
              "      <th>gas</th>\n",
              "      <td>85.30401</td>\n",
              "    </tr>\n",
              "    <tr>\n",
              "      <th>other</th>\n",
              "      <td>7.084206</td>\n",
              "    </tr>\n",
              "    <tr>\n",
              "      <th>diesel</th>\n",
              "      <td>5.938773</td>\n",
              "    </tr>\n",
              "    <tr>\n",
              "      <th>hybrid</th>\n",
              "      <td>1.266761</td>\n",
              "    </tr>\n",
              "    <tr>\n",
              "      <th>electric</th>\n",
              "      <td>0.406251</td>\n",
              "    </tr>\n",
              "  </tbody>\n",
              "</table>\n",
              "</div><br><label><b>dtype:</b> Float64</label>"
            ]
          },
          "metadata": {},
          "execution_count": 25
        }
      ]
    },
    {
      "cell_type": "code",
      "source": [
        "print(usedCars['fuel'].isnull().sum()/usedCars['fuel'].count()  * 100)\n",
        "# 85 % is gas. Only 0.6% is missing. Lets replace with Gas]\n",
        "X_train['fuel'] = X_train['fuel'].fillna('gas')\n",
        "X_test['fuel'] = X_test['fuel'].fillna('gas')\n",
        "print(usedCars['fuel'].isnull().sum())\n",
        "\n",
        "#There are 5 distinct values. Using OneHotEncoder to encode fuel\n",
        "encoder = OneHotEncoder(sparse_output=False, handle_unknown='ignore')\n",
        "title_fuel_encoded_train = encoder.fit_transform(X_train[['fuel']])\n",
        "title_fuel_encoded_test = encoder.transform(X_test[['fuel']])\n",
        "\n",
        "encoded_fuel_train = pd.DataFrame(title_fuel_encoded_train, columns=encoder.get_feature_names_out(['fuel']))\n",
        "encoded_fuel_test = pd.DataFrame(title_fuel_encoded_test, columns=encoder.get_feature_names_out(['fuel']))\n",
        "\n",
        "# Combine with the original dataframe\n",
        "X_train = pd.concat([X_train.reset_index(drop=True), encoded_fuel_train.reset_index(drop=True)], axis=1)\n",
        "X_test = pd.concat([X_test.reset_index(drop=True), encoded_fuel_test.reset_index(drop=True)], axis=1)\n",
        "\n",
        "y_train = y_train.reset_index(drop=True)\n",
        "y_test = y_test.reset_index(drop=True)\n"
      ],
      "metadata": {
        "colab": {
          "base_uri": "https://localhost:8080/"
        },
        "id": "bY9MkmeuOgxj",
        "outputId": "98e2c59d-cc5b-481e-9a4c-ca802cf62619"
      },
      "execution_count": 26,
      "outputs": [
        {
          "output_type": "stream",
          "name": "stdout",
          "text": [
            "0.6645601822256896\n",
            "2547\n"
          ]
        }
      ]
    },
    {
      "cell_type": "markdown",
      "source": [
        "**6) Clean State Column**"
      ],
      "metadata": {
        "id": "WZQK1fde6xAZ"
      }
    },
    {
      "cell_type": "code",
      "source": [
        "print(usedCars['state'].value_counts(normalize=True) * 100)\n",
        "print(usedCars['state'].isnull().sum())\n",
        "#print the row with stat value null. Region is detroit metro. Set state to 'mi'\n",
        "usedCars.loc[usedCars['state'].isnull(), 'state'] = 'mi'\n",
        "X_train.loc[X_train['state'].isnull(), 'state'] = 'mi'\n",
        "X_test.loc[X_test['state'].isnull(), 'state'] = 'mi'\n",
        "\n",
        "# Large number of values. Apply James-stein encoding\n",
        "encoder = ce.JamesSteinEncoder(cols=['state'])\n",
        "encoder.fit(X_train[['state']], y_train)\n",
        "\n",
        "# Transform the 'region' column\n",
        "X_train['state'] = encoder.transform(X_train[['state']])\n",
        "X_test['state'] = encoder.transform(X_test[['state']])\n",
        "\n",
        "X_test = X_test.convert_dtypes()\n",
        "X_train = X_train.convert_dtypes()"
      ],
      "metadata": {
        "colab": {
          "base_uri": "https://localhost:8080/"
        },
        "id": "r87k3FcM6yRC",
        "outputId": "87cd6494-6e3f-40ab-8b2e-2d45ba5ac4e2"
      },
      "execution_count": 27,
      "outputs": [
        {
          "output_type": "stream",
          "name": "stdout",
          "text": [
            "state\n",
            "ca    11.457513\n",
            "fl     6.932464\n",
            "tx     5.386099\n",
            "ny     4.571445\n",
            "oh     4.278553\n",
            "mi     4.220752\n",
            "or     3.548138\n",
            "pa      3.32186\n",
            "nc     3.253432\n",
            "wa     2.985164\n",
            "wi      2.87656\n",
            "tn     2.689421\n",
            "co     2.637841\n",
            "il     2.537532\n",
            "nj     2.394196\n",
            "va      2.25423\n",
            "ia     2.074866\n",
            "az     2.061129\n",
            "ma     2.046095\n",
            "id     2.039616\n",
            "mn     1.889023\n",
            "ga     1.611682\n",
            "ks     1.513188\n",
            "mt     1.504116\n",
            "sc     1.447093\n",
            "ok     1.413397\n",
            "in     1.407954\n",
            "ct     1.300647\n",
            "al     1.205263\n",
            "md      1.11247\n",
            "ky     1.046375\n",
            "mo     1.002053\n",
            "nm     0.964988\n",
            "ak     0.870381\n",
            "ar     0.823467\n",
            "nv     0.758408\n",
            "nh     0.751669\n",
            "me     0.705532\n",
            "la     0.698534\n",
            "dc     0.687389\n",
            "hi     0.686611\n",
            "vt     0.630884\n",
            "ri     0.585524\n",
            "sd     0.314664\n",
            "ut     0.268009\n",
            "ne     0.257641\n",
            "wv     0.254531\n",
            "ms     0.248828\n",
            "de     0.228611\n",
            "wy     0.144891\n",
            "nd     0.099272\n",
            "Name: proportion, dtype: Float64\n",
            "0\n"
          ]
        }
      ]
    },
    {
      "cell_type": "code",
      "source": [],
      "metadata": {
        "id": "9qQaLr9STTAK"
      },
      "execution_count": 27,
      "outputs": []
    },
    {
      "cell_type": "code",
      "source": [
        "print(X_train.shape)\n",
        "print(X_test.shape)\n",
        "print(y_train.shape)\n",
        "print(y_test.shape)"
      ],
      "metadata": {
        "colab": {
          "base_uri": "https://localhost:8080/"
        },
        "id": "75i62Hxs7vCZ",
        "outputId": "77bb433f-451d-4551-e481-03b9485b611b"
      },
      "execution_count": 28,
      "outputs": [
        {
          "output_type": "stream",
          "name": "stdout",
          "text": [
            "(308646, 17)\n",
            "(77162, 17)\n",
            "(308646,)\n",
            "(77162,)\n"
          ]
        }
      ]
    },
    {
      "cell_type": "markdown",
      "source": [
        "**7) Clean Region Column**"
      ],
      "metadata": {
        "id": "8KRomWoyHrUL"
      }
    },
    {
      "cell_type": "code",
      "source": [
        "usedCars['region'].value_counts(normalize=True) * 100\n"
      ],
      "metadata": {
        "colab": {
          "base_uri": "https://localhost:8080/",
          "height": 475
        },
        "id": "T1_wYkyaQW2C",
        "outputId": "7d2227ed-8d77-4cd6-b71b-cf010eb1393b"
      },
      "execution_count": 29,
      "outputs": [
        {
          "output_type": "execute_result",
          "data": {
            "text/plain": [
              "region\n",
              "columbus                   0.87064\n",
              "jacksonville              0.801694\n",
              "omaha / council bluffs    0.759445\n",
              "milwaukee                 0.752965\n",
              "new hampshire             0.751669\n",
              "                            ...   \n",
              "meridian                  0.005184\n",
              "southwest MS               0.00311\n",
              "kansas city               0.002592\n",
              "fort smith, AR            0.002074\n",
              "west virginia (old)       0.002074\n",
              "Name: proportion, Length: 404, dtype: Float64"
            ],
            "text/html": [
              "<div>\n",
              "<style scoped>\n",
              "    .dataframe tbody tr th:only-of-type {\n",
              "        vertical-align: middle;\n",
              "    }\n",
              "\n",
              "    .dataframe tbody tr th {\n",
              "        vertical-align: top;\n",
              "    }\n",
              "\n",
              "    .dataframe thead th {\n",
              "        text-align: right;\n",
              "    }\n",
              "</style>\n",
              "<table border=\"1\" class=\"dataframe\">\n",
              "  <thead>\n",
              "    <tr style=\"text-align: right;\">\n",
              "      <th></th>\n",
              "      <th>proportion</th>\n",
              "    </tr>\n",
              "    <tr>\n",
              "      <th>region</th>\n",
              "      <th></th>\n",
              "    </tr>\n",
              "  </thead>\n",
              "  <tbody>\n",
              "    <tr>\n",
              "      <th>columbus</th>\n",
              "      <td>0.87064</td>\n",
              "    </tr>\n",
              "    <tr>\n",
              "      <th>jacksonville</th>\n",
              "      <td>0.801694</td>\n",
              "    </tr>\n",
              "    <tr>\n",
              "      <th>omaha / council bluffs</th>\n",
              "      <td>0.759445</td>\n",
              "    </tr>\n",
              "    <tr>\n",
              "      <th>milwaukee</th>\n",
              "      <td>0.752965</td>\n",
              "    </tr>\n",
              "    <tr>\n",
              "      <th>new hampshire</th>\n",
              "      <td>0.751669</td>\n",
              "    </tr>\n",
              "    <tr>\n",
              "      <th>...</th>\n",
              "      <td>...</td>\n",
              "    </tr>\n",
              "    <tr>\n",
              "      <th>meridian</th>\n",
              "      <td>0.005184</td>\n",
              "    </tr>\n",
              "    <tr>\n",
              "      <th>southwest MS</th>\n",
              "      <td>0.00311</td>\n",
              "    </tr>\n",
              "    <tr>\n",
              "      <th>kansas city</th>\n",
              "      <td>0.002592</td>\n",
              "    </tr>\n",
              "    <tr>\n",
              "      <th>fort smith, AR</th>\n",
              "      <td>0.002074</td>\n",
              "    </tr>\n",
              "    <tr>\n",
              "      <th>west virginia (old)</th>\n",
              "      <td>0.002074</td>\n",
              "    </tr>\n",
              "  </tbody>\n",
              "</table>\n",
              "<p>404 rows × 1 columns</p>\n",
              "</div><br><label><b>dtype:</b> Float64</label>"
            ]
          },
          "metadata": {},
          "execution_count": 29
        }
      ]
    },
    {
      "cell_type": "code",
      "source": [
        "# There is large number of unique values in region\n",
        "def clean_method(input_str):\n",
        "    input_str = input_str.lower().strip()  # Convert to lowercase and strip spaces\n",
        "    input_str = re.sub(r\"[/,\\-']\", \" \", input_str)  # Remove special characters\n",
        "    input_str = re.sub(r\"\\s+\", \"_\", input_str)  # Replace spaces with underscores\n",
        "    return input_str\n",
        "\n",
        "# Apply cleaning function to the column\n",
        "X_train['region'] = X_train['region'].apply(clean_method)\n",
        "X_test['region'] = X_test['region'].apply(clean_method)\n",
        "\n",
        "# Apply James-stein encoding\n",
        "encoder = ce.JamesSteinEncoder(cols=['region'])\n",
        "encoder.fit(X_train[['region']], y_train)\n",
        "\n",
        "# Transform the 'region' column\n",
        "X_train['region_encoded'] = encoder.transform(X_train[['region']])\n",
        "X_test['region_encoded'] = encoder.transform(X_test[['region']])\n",
        "\n",
        "X_test = X_test.convert_dtypes()\n",
        "X_train = X_train.convert_dtypes()"
      ],
      "metadata": {
        "id": "RJuRlOjSQc75"
      },
      "execution_count": 30,
      "outputs": []
    },
    {
      "cell_type": "markdown",
      "source": [
        "**8) Clean Title status Column**"
      ],
      "metadata": {
        "id": "HxkBlFFgHs1J"
      }
    },
    {
      "cell_type": "code",
      "source": [
        "\n",
        "# There are 3726 null values. Setting them to unknown\n",
        "X_train['title_status'] = X_train['title_status'].fillna('unknown')\n",
        "X_test['title_status'] = X_test['title_status'].fillna('unknown')\n",
        "\n",
        "#There are 7 distinct values. Using OneHotEncoder to encode title_status\n",
        "encoder = OneHotEncoder(sparse_output=False, handle_unknown='ignore')\n",
        "title_status_encoded_train = encoder.fit_transform(X_train[['title_status']])\n",
        "title_status_encoded_test = encoder.transform(X_test[['title_status']])\n",
        "\n",
        "encoded_title_train = pd.DataFrame(title_status_encoded_train, columns=encoder.get_feature_names_out(['title_status']))\n",
        "encoded_title_test = pd.DataFrame(title_status_encoded_test, columns=encoder.get_feature_names_out(['title_status']))\n",
        "\n",
        "# Combine with the original dataframe\n",
        "X_train = pd.concat([X_train.reset_index(drop=True), encoded_title_train.reset_index(drop=True)], axis=1)\n",
        "X_test = pd.concat([X_test.reset_index(drop=True), encoded_title_test.reset_index(drop=True)], axis=1)\n",
        "\n",
        "y_train = y_train.reset_index(drop=True)\n",
        "y_test = y_test.reset_index(drop=True)\n"
      ],
      "metadata": {
        "id": "edwIXqLyP5cM"
      },
      "execution_count": 31,
      "outputs": []
    },
    {
      "cell_type": "markdown",
      "source": [
        "**9) Clean *Transmission* Column**"
      ],
      "metadata": {
        "id": "4IK9TT2GHv-H"
      }
    },
    {
      "cell_type": "code",
      "source": [
        "print(usedCars['transmission'].value_counts(normalize=True) * 100)\n",
        "print(usedCars['transmission'].isnull().sum()/usedCars['transmission'].count() * 100)\n",
        "\n",
        "# .4% of null values and 77% automatic.\n",
        "# Set the unknown values to automatic\n",
        "X_train['transmission'] = X_train['transmission'].fillna('automatic')\n",
        "X_test['transmission'] = X_test['transmission'].fillna('automatic')\n",
        "\n",
        "# Use One hot encoder to encode transmission column\n",
        "encoder = OneHotEncoder(sparse_output=False, handle_unknown='ignore')\n",
        "transmission_encoded_train = encoder.fit_transform(X_train[['transmission']])\n",
        "transmission_encoded_test = encoder.transform(X_test[['transmission']])\n",
        "\n",
        "encoded_trans_train = pd.DataFrame(transmission_encoded_train, columns=encoder.get_feature_names_out(['transmission']))\n",
        "encoded_trans_test = pd.DataFrame(transmission_encoded_test, columns=encoder.get_feature_names_out(['transmission']))\n",
        "\n",
        "# Combine with the original dataframe\n",
        "X_train = pd.concat([X_train.reset_index(drop=True), encoded_trans_train.reset_index(drop=True)], axis=1)\n",
        "X_test = pd.concat([X_test.reset_index(drop=True), encoded_trans_test.reset_index(drop=True)], axis=1)\n",
        "\n",
        "y_train = y_train.reset_index(drop=True)\n",
        "y_test = y_test.reset_index(drop=True)\n",
        "\n"
      ],
      "metadata": {
        "colab": {
          "base_uri": "https://localhost:8080/"
        },
        "id": "FUaDP_uwTipE",
        "outputId": "03325984-0b5f-4708-cd72-65991fea41be"
      },
      "execution_count": 32,
      "outputs": [
        {
          "output_type": "stream",
          "name": "stdout",
          "text": [
            "transmission\n",
            "automatic    77.988397\n",
            "other        15.935863\n",
            "manual         6.07574\n",
            "Name: proportion, dtype: Float64\n",
            "0.4572297501380021\n"
          ]
        }
      ]
    },
    {
      "cell_type": "markdown",
      "source": [
        "**10) Clean Type Column**"
      ],
      "metadata": {
        "id": "TF87MWj3K1x8"
      }
    },
    {
      "cell_type": "code",
      "source": [
        "print(usedCars['type'].value_counts(normalize=True) * 100)\n",
        "print(usedCars['type'].isnull().sum()/usedCars['transmission'].count() * 100)\n",
        "# There is 21% null values in type column\n",
        "# fill null with others\n",
        "usedCars['type'] = usedCars['type'].fillna('other')\n",
        "X_train['type'] = X_train['type'].fillna('other')\n",
        "X_test['type'] = X_test['type'].fillna('other')\n",
        "\n",
        "# Apply James-stein encoding\n",
        "encoder = ce.JamesSteinEncoder(cols=['type'])\n",
        "encoder.fit(X_train[['type']], y_train)\n",
        "\n",
        "# Transform\n",
        "X_train['type_encoded'] = encoder.transform(X_train[['type']])\n",
        "X_test['type_encoded'] = encoder.transform(X_test[['type']])\n",
        "\n",
        "X_test = X_test.convert_dtypes()\n",
        "X_train = X_train.convert_dtypes()"
      ],
      "metadata": {
        "colab": {
          "base_uri": "https://localhost:8080/"
        },
        "id": "VVTMp6AOC48X",
        "outputId": "c11c0372-a6cb-4e22-c867-c34c89c9bdc9"
      },
      "execution_count": 33,
      "outputs": [
        {
          "output_type": "stream",
          "name": "stdout",
          "text": [
            "type\n",
            "sedan          26.536017\n",
            "SUV            23.162497\n",
            "pickup         13.158619\n",
            "truck           9.504994\n",
            "other           6.372794\n",
            "coupe           5.848054\n",
            "hatchback       5.272596\n",
            "wagon           3.327444\n",
            "van             2.588564\n",
            "convertible     2.363486\n",
            "mini-van        1.505935\n",
            "offroad          0.19425\n",
            "bus             0.164748\n",
            "Name: proportion, dtype: Float64\n",
            "21.907189651401374\n"
          ]
        }
      ]
    },
    {
      "cell_type": "code",
      "source": [
        "X_test = X_test.convert_dtypes()\n",
        "X_train = X_train.convert_dtypes()"
      ],
      "metadata": {
        "id": "ss95d0B0HzxI"
      },
      "execution_count": 34,
      "outputs": []
    },
    {
      "cell_type": "code",
      "source": [],
      "metadata": {
        "id": "0C23QWOrH7Kp"
      },
      "execution_count": 34,
      "outputs": []
    },
    {
      "cell_type": "code",
      "source": [
        "X_train.info()"
      ],
      "metadata": {
        "colab": {
          "base_uri": "https://localhost:8080/"
        },
        "id": "jYPQSsUoEUCx",
        "outputId": "1278b16d-db0f-4c11-cb6b-2c34bc090fc4"
      },
      "execution_count": 35,
      "outputs": [
        {
          "output_type": "stream",
          "name": "stdout",
          "text": [
            "<class 'pandas.core.frame.DataFrame'>\n",
            "RangeIndex: 308646 entries, 0 to 308645\n",
            "Data columns (total 29 columns):\n",
            " #   Column                   Non-Null Count   Dtype  \n",
            "---  ------                   --------------   -----  \n",
            " 0   region                   308646 non-null  string \n",
            " 1   year                     307873 non-null  Int64  \n",
            " 2   manufacturer             296362 non-null  string \n",
            " 3   model                    305148 non-null  string \n",
            " 4   condition                308646 non-null  Int64  \n",
            " 5   cylinders                308646 non-null  Int64  \n",
            " 6   fuel                     308646 non-null  string \n",
            " 7   odometer                 305739 non-null  Int64  \n",
            " 8   title_status             308646 non-null  string \n",
            " 9   transmission             308646 non-null  string \n",
            " 10  type                     308646 non-null  string \n",
            " 11  state                    308646 non-null  Float64\n",
            " 12  fuel_diesel              308646 non-null  Int64  \n",
            " 13  fuel_electric            308646 non-null  Int64  \n",
            " 14  fuel_gas                 308646 non-null  Int64  \n",
            " 15  fuel_hybrid              308646 non-null  Int64  \n",
            " 16  fuel_other               308646 non-null  Int64  \n",
            " 17  region_encoded           308646 non-null  Float64\n",
            " 18  title_status_clean       308646 non-null  Int64  \n",
            " 19  title_status_lien        308646 non-null  Int64  \n",
            " 20  title_status_missing     308646 non-null  Int64  \n",
            " 21  title_status_parts only  308646 non-null  Int64  \n",
            " 22  title_status_rebuilt     308646 non-null  Int64  \n",
            " 23  title_status_salvage     308646 non-null  Int64  \n",
            " 24  title_status_unknown     308646 non-null  Int64  \n",
            " 25  transmission_automatic   308646 non-null  Int64  \n",
            " 26  transmission_manual      308646 non-null  Int64  \n",
            " 27  transmission_other       308646 non-null  Int64  \n",
            " 28  type_encoded             308646 non-null  Float64\n",
            "dtypes: Float64(3), Int64(19), string(7)\n",
            "memory usage: 74.8 MB\n"
          ]
        }
      ]
    },
    {
      "cell_type": "markdown",
      "source": [
        "**11) Clean Manufacturer Column**\n",
        "\n",
        "\n"
      ],
      "metadata": {
        "id": "F0PSYvs88PMC"
      }
    },
    {
      "cell_type": "code",
      "source": [
        "\n",
        "print(usedCars['manufacturer'].value_counts(normalize=True) * 100)\n",
        "usedCars['manufacturer'].isnull().sum()/usedCars['manufacturer'].count() * 100\n",
        "# There is 4% missing values\n",
        "# fill with unknown\n",
        "usedCars['manufacturer'] = usedCars['manufacturer'].fillna('unknown')\n",
        "X_train['manufacturer'] = X_train['manufacturer'].fillna('unknown')\n",
        "X_test['manufacturer'] = X_test['manufacturer'].fillna('unknown')\n",
        "\n",
        "# Use James - stein encoding\n",
        "encoder = ce.JamesSteinEncoder(cols=['manufacturer'])\n",
        "encoder.fit(X_train[['manufacturer']],y_train)\n",
        "\n",
        "# Transform\n",
        "X_train['manufacturer_encoded'] = encoder.transform(X_train[['manufacturer']])\n",
        "X_test['manufacturer_encoded'] = encoder.transform(X_test[['manufacturer']])\n",
        "\n",
        "X_test = X_test.convert_dtypes()\n",
        "X_train = X_train.convert_dtypes()"
      ],
      "metadata": {
        "colab": {
          "base_uri": "https://localhost:8080/"
        },
        "id": "CCzJLnPv9_h_",
        "outputId": "a4a79e98-d04c-48f9-8195-60810db3dcc9"
      },
      "execution_count": 36,
      "outputs": [
        {
          "output_type": "stream",
          "name": "stdout",
          "text": [
            "manufacturer\n",
            "ford                16.92904\n",
            "chevrolet          13.286581\n",
            "toyota              8.481256\n",
            "honda               5.358415\n",
            "nissan              4.688445\n",
            "jeep                4.678457\n",
            "ram                 4.208776\n",
            "gmc                 3.940464\n",
            "bmw                 3.668643\n",
            "dodge               3.293437\n",
            "mercedes-benz       2.724151\n",
            "hyundai              2.53034\n",
            "subaru              2.425067\n",
            "volkswagen          2.400773\n",
            "lexus               2.081984\n",
            "kia                 2.037175\n",
            "audi                1.876566\n",
            "cadillac             1.74025\n",
            "acura               1.536722\n",
            "chrysler            1.520526\n",
            "buick               1.397437\n",
            "mazda               1.362616\n",
            "infiniti            1.206055\n",
            "lincoln             1.075138\n",
            "volvo                0.87026\n",
            "mitsubishi          0.839218\n",
            "mini                0.610046\n",
            "pontiac             0.599518\n",
            "jaguar              0.509901\n",
            "rover               0.501533\n",
            "porsche             0.314471\n",
            "mercury             0.306373\n",
            "saturn              0.289097\n",
            "alfa-romeo          0.234571\n",
            "fiat                0.208387\n",
            "tesla               0.204608\n",
            "harley-davidson     0.037251\n",
            "datsun              0.017006\n",
            "aston-martin        0.002969\n",
            "land rover          0.002969\n",
            "ferrari             0.002699\n",
            "morgan               0.00081\n",
            "Name: proportion, dtype: Float64\n"
          ]
        }
      ]
    },
    {
      "cell_type": "markdown",
      "source": [
        "**12) Clean Model Column**\n"
      ],
      "metadata": {
        "id": "q0OxdsGL8aUD"
      }
    },
    {
      "cell_type": "code",
      "source": [
        "# For this analysis remove model column. Its slightly too complex"
      ],
      "metadata": {
        "id": "r7eft_7EMTyM"
      },
      "execution_count": 37,
      "outputs": []
    },
    {
      "cell_type": "code",
      "source": [
        "X_train.drop(columns=['region','fuel','title_status','transmission','type','manufacturer','model'], inplace=True)\n",
        "X_test.drop(columns=['region','fuel','title_status','transmission','type','manufacturer','model'], inplace=True)\n",
        "usedCars.drop(columns=['region','fuel','title_status','transmission','type','manufacturer','model'], inplace=True)"
      ],
      "metadata": {
        "id": "2y5NCQw9MOiX"
      },
      "execution_count": 38,
      "outputs": []
    },
    {
      "cell_type": "code",
      "source": [
        "X_train.info()"
      ],
      "metadata": {
        "colab": {
          "base_uri": "https://localhost:8080/"
        },
        "id": "MBZyIjwvTRZG",
        "outputId": "7e5a0199-fce6-4e3e-d8e1-f734b6b485ae"
      },
      "execution_count": 39,
      "outputs": [
        {
          "output_type": "stream",
          "name": "stdout",
          "text": [
            "<class 'pandas.core.frame.DataFrame'>\n",
            "RangeIndex: 308646 entries, 0 to 308645\n",
            "Data columns (total 23 columns):\n",
            " #   Column                   Non-Null Count   Dtype  \n",
            "---  ------                   --------------   -----  \n",
            " 0   year                     307873 non-null  Int64  \n",
            " 1   condition                308646 non-null  Int64  \n",
            " 2   cylinders                308646 non-null  Int64  \n",
            " 3   odometer                 305739 non-null  Int64  \n",
            " 4   state                    308646 non-null  Float64\n",
            " 5   fuel_diesel              308646 non-null  Int64  \n",
            " 6   fuel_electric            308646 non-null  Int64  \n",
            " 7   fuel_gas                 308646 non-null  Int64  \n",
            " 8   fuel_hybrid              308646 non-null  Int64  \n",
            " 9   fuel_other               308646 non-null  Int64  \n",
            " 10  region_encoded           308646 non-null  Float64\n",
            " 11  title_status_clean       308646 non-null  Int64  \n",
            " 12  title_status_lien        308646 non-null  Int64  \n",
            " 13  title_status_missing     308646 non-null  Int64  \n",
            " 14  title_status_parts only  308646 non-null  Int64  \n",
            " 15  title_status_rebuilt     308646 non-null  Int64  \n",
            " 16  title_status_salvage     308646 non-null  Int64  \n",
            " 17  title_status_unknown     308646 non-null  Int64  \n",
            " 18  transmission_automatic   308646 non-null  Int64  \n",
            " 19  transmission_manual      308646 non-null  Int64  \n",
            " 20  transmission_other       308646 non-null  Int64  \n",
            " 21  type_encoded             308646 non-null  Float64\n",
            " 22  manufacturer_encoded     308646 non-null  Float64\n",
            "dtypes: Float64(4), Int64(19)\n",
            "memory usage: 60.9 MB\n"
          ]
        }
      ]
    },
    {
      "cell_type": "markdown",
      "source": [
        "**13) Clean Price Column** -- Already done"
      ],
      "metadata": {
        "id": "JNPfYXmxNI3I"
      }
    },
    {
      "cell_type": "markdown",
      "source": [
        "**14) Clean Year column**"
      ],
      "metadata": {
        "id": "iw9_T2EIYqA-"
      }
    },
    {
      "cell_type": "code",
      "source": [
        "print(usedCars['year'].value_counts(normalize=True) * 100)\n",
        "print(usedCars['year'].isnull().sum()/usedCars['year'].count() * 100)"
      ],
      "metadata": {
        "colab": {
          "base_uri": "https://localhost:8080/"
        },
        "id": "I7FmfOHQYyTd",
        "outputId": "a5d0ed6c-7042-4418-9d54-5213afe3dd23"
      },
      "execution_count": 40,
      "outputs": [
        {
          "output_type": "stream",
          "name": "stdout",
          "text": [
            "year\n",
            "2018    8.190932\n",
            "2017    8.141559\n",
            "2013     7.30872\n",
            "2015    7.183469\n",
            "2014    6.976104\n",
            "          ...   \n",
            "1943     0.00026\n",
            "1915     0.00026\n",
            "1905     0.00026\n",
            "1913     0.00026\n",
            "1909     0.00026\n",
            "Name: proportion, Length: 112, dtype: Float64\n",
            "0.25465922438076233\n"
          ]
        }
      ]
    },
    {
      "cell_type": "code",
      "source": [
        "#set missing year to mean year\n",
        "X_train.fillna(2018, inplace=True)\n",
        "X_test.fillna(2018, inplace=True)"
      ],
      "metadata": {
        "id": "grf-5MkUZP6R"
      },
      "execution_count": 41,
      "outputs": []
    },
    {
      "cell_type": "markdown",
      "source": [
        "**15) Clean Odometer Column**\n"
      ],
      "metadata": {
        "id": "EACZ4CwmNQwX"
      }
    },
    {
      "cell_type": "code",
      "source": [
        "\n",
        "# Set null values to mean of odometer value grouped by year\n",
        "mean_odometer_train = X_train.groupby('year')['odometer'].transform('mean')\n",
        "mean_odometer_test = X_test.groupby('year')['odometer'].transform('mean')\n",
        "\n",
        "\n",
        "print(mean_odometer_train)\n",
        "X_train['odometer'].fillna(mean_odometer_train, inplace=True)\n",
        "X_test['odometer'].fillna(mean_odometer_test, inplace=True)"
      ],
      "metadata": {
        "colab": {
          "base_uri": "https://localhost:8080/"
        },
        "id": "_oih01GSVMr8",
        "outputId": "1287c726-3e08-4b48-a262-e330b63c044c"
      },
      "execution_count": 42,
      "outputs": [
        {
          "output_type": "stream",
          "name": "stdout",
          "text": [
            "0          24183.169115\n",
            "1         120005.153283\n",
            "2          36901.536596\n",
            "3          24183.169115\n",
            "4         137880.279165\n",
            "              ...      \n",
            "308641          64394.5\n",
            "308642     24183.169115\n",
            "308643    130812.978284\n",
            "308644    153501.351175\n",
            "308645     68466.951966\n",
            "Name: odometer, Length: 308646, dtype: Float64\n"
          ]
        },
        {
          "output_type": "stream",
          "name": "stderr",
          "text": [
            "<ipython-input-42-22ba2408f8c7>:7: FutureWarning: A value is trying to be set on a copy of a DataFrame or Series through chained assignment using an inplace method.\n",
            "The behavior will change in pandas 3.0. This inplace method will never work because the intermediate object on which we are setting values always behaves as a copy.\n",
            "\n",
            "For example, when doing 'df[col].method(value, inplace=True)', try using 'df.method({col: value}, inplace=True)' or df[col] = df[col].method(value) instead, to perform the operation inplace on the original object.\n",
            "\n",
            "\n",
            "  X_train['odometer'].fillna(mean_odometer_train, inplace=True)\n",
            "<ipython-input-42-22ba2408f8c7>:8: FutureWarning: A value is trying to be set on a copy of a DataFrame or Series through chained assignment using an inplace method.\n",
            "The behavior will change in pandas 3.0. This inplace method will never work because the intermediate object on which we are setting values always behaves as a copy.\n",
            "\n",
            "For example, when doing 'df[col].method(value, inplace=True)', try using 'df.method({col: value}, inplace=True)' or df[col] = df[col].method(value) instead, to perform the operation inplace on the original object.\n",
            "\n",
            "\n",
            "  X_test['odometer'].fillna(mean_odometer_test, inplace=True)\n"
          ]
        }
      ]
    },
    {
      "cell_type": "markdown",
      "metadata": {
        "id": "TtbGyg052LwO"
      },
      "source": [
        "### Modeling\n",
        "\n",
        "With your (almost?) final dataset in hand, it is now time to build some models.  Here, you should build a number of different regression models with the price as the target.  In building your models, you should explore different parameters and be sure to cross-validate your findings."
      ]
    },
    {
      "cell_type": "code",
      "execution_count": 43,
      "metadata": {
        "id": "YKS7-lTT2LwO",
        "colab": {
          "base_uri": "https://localhost:8080/",
          "height": 1000
        },
        "outputId": "7ec80fac-c208-4926-e2fb-8efd87ad168e"
      },
      "outputs": [
        {
          "output_type": "display_data",
          "data": {
            "text/plain": [
              "<Figure size 1800x1600 with 2 Axes>"
            ],
            "image/png": "[encoded data removed]"
          },
          "metadata": {}
        }
      ],
      "source": [
        "correlation_matrix = pd.concat([X_train, y_train], axis=1).corr()\n",
        "plt.figure(figsize=(18, 16))\n",
        "sns.heatmap(correlation_matrix, annot=True, cmap='coolwarm', fmt=\".2f\", vmin=-1, vmax=1, square=True)\n",
        "plt.title('Correlation Matrix')\n",
        "plt.show()\n",
        "# Plot a corr() for X_train and y_train\n",
        "#"
      ]
    },
    {
      "cell_type": "code",
      "source": [
        "null_percentage = X_train.isnull().mean() * 100\n",
        "print(null_percentage)"
      ],
      "metadata": {
        "colab": {
          "base_uri": "https://localhost:8080/"
        },
        "id": "HQJdM7kzU7jl",
        "outputId": "ba8e8334-e0d5-4641-b1da-79d2816a01c4"
      },
      "execution_count": 44,
      "outputs": [
        {
          "output_type": "stream",
          "name": "stdout",
          "text": [
            "year                       0.0\n",
            "condition                  0.0\n",
            "cylinders                  0.0\n",
            "odometer                   0.0\n",
            "state                      0.0\n",
            "fuel_diesel                0.0\n",
            "fuel_electric              0.0\n",
            "fuel_gas                   0.0\n",
            "fuel_hybrid                0.0\n",
            "fuel_other                 0.0\n",
            "region_encoded             0.0\n",
            "title_status_clean         0.0\n",
            "title_status_lien          0.0\n",
            "title_status_missing       0.0\n",
            "title_status_parts only    0.0\n",
            "title_status_rebuilt       0.0\n",
            "title_status_salvage       0.0\n",
            "title_status_unknown       0.0\n",
            "transmission_automatic     0.0\n",
            "transmission_manual        0.0\n",
            "transmission_other         0.0\n",
            "type_encoded               0.0\n",
            "manufacturer_encoded       0.0\n",
            "dtype: float64\n"
          ]
        }
      ]
    },
    {
      "cell_type": "code",
      "execution_count": 46,
      "metadata": {
        "id": "hS_IbDt_2LwO",
        "colab": {
          "base_uri": "https://localhost:8080/"
        },
        "outputId": "2c5bb2cc-d419-4e04-c36d-6f70c56a6caf"
      },
      "outputs": [
        {
          "output_type": "stream",
          "name": "stdout",
          "text": [
            "60856811.91417967\n",
            "0.627762872803088\n"
          ]
        }
      ],
      "source": [
        "# Linear regresssion model\n",
        "pipe = Pipeline([\n",
        "    ('poly', PolynomialFeatures(degree=2, include_bias=False)),\n",
        "    ('scaler', StandardScaler()),\n",
        "    ('model', LinearRegression())\n",
        "])\n",
        "pipe.fit(X_train, y_train)\n",
        "preds = pipe.predict(X_test)\n",
        "mse = mean_squared_error(y_test, preds)\n",
        "print(mse)\n",
        "\n",
        "r2_test = r2_score(y_test, preds)\n",
        "print(r2_test)"
      ]
    },
    {
      "cell_type": "code",
      "source": [
        "# Ridge Regression model\n",
        "# Find alpha\n",
        "param_grid = {\n",
        "    'alpha': [0.001, 0.1, 1.0, 10.0, 100.0, 1000.0]  # Range of alpha values to try\n",
        "}\n",
        "grid_search = GridSearchCV(estimator=Ridge(), param_grid=param_grid)\n",
        "grid_search.fit(X_train, y_train)\n",
        "best_model = grid_search.best_estimator_\n",
        "print(best_model) # alpha=10"
      ],
      "metadata": {
        "colab": {
          "base_uri": "https://localhost:8080/"
        },
        "id": "aTFDFnxgevS9",
        "outputId": "a9391a59-ac4a-41fe-a64f-ee99e147e2ee"
      },
      "execution_count": 54,
      "outputs": [
        {
          "output_type": "stream",
          "name": "stderr",
          "text": [
            "/usr/local/lib/python3.11/dist-packages/sklearn/linear_model/_ridge.py:215: LinAlgWarning: Ill-conditioned matrix (rcond=9.95595e-19): result may not be accurate.\n",
            "  return linalg.solve(A, Xy, assume_a=\"pos\", overwrite_a=True).T\n",
            "/usr/local/lib/python3.11/dist-packages/sklearn/linear_model/_ridge.py:215: LinAlgWarning: Ill-conditioned matrix (rcond=9.9246e-19): result may not be accurate.\n",
            "  return linalg.solve(A, Xy, assume_a=\"pos\", overwrite_a=True).T\n",
            "/usr/local/lib/python3.11/dist-packages/sklearn/linear_model/_ridge.py:215: LinAlgWarning: Ill-conditioned matrix (rcond=9.94848e-19): result may not be accurate.\n",
            "  return linalg.solve(A, Xy, assume_a=\"pos\", overwrite_a=True).T\n",
            "/usr/local/lib/python3.11/dist-packages/sklearn/linear_model/_ridge.py:215: LinAlgWarning: Ill-conditioned matrix (rcond=9.95299e-19): result may not be accurate.\n",
            "  return linalg.solve(A, Xy, assume_a=\"pos\", overwrite_a=True).T\n",
            "/usr/local/lib/python3.11/dist-packages/sklearn/linear_model/_ridge.py:215: LinAlgWarning: Ill-conditioned matrix (rcond=9.95062e-19): result may not be accurate.\n",
            "  return linalg.solve(A, Xy, assume_a=\"pos\", overwrite_a=True).T\n",
            "/usr/local/lib/python3.11/dist-packages/sklearn/linear_model/_ridge.py:215: LinAlgWarning: Ill-conditioned matrix (rcond=9.95593e-17): result may not be accurate.\n",
            "  return linalg.solve(A, Xy, assume_a=\"pos\", overwrite_a=True).T\n",
            "/usr/local/lib/python3.11/dist-packages/sklearn/linear_model/_ridge.py:215: LinAlgWarning: Ill-conditioned matrix (rcond=9.92456e-17): result may not be accurate.\n",
            "  return linalg.solve(A, Xy, assume_a=\"pos\", overwrite_a=True).T\n",
            "/usr/local/lib/python3.11/dist-packages/sklearn/linear_model/_ridge.py:215: LinAlgWarning: Ill-conditioned matrix (rcond=9.94844e-17): result may not be accurate.\n",
            "  return linalg.solve(A, Xy, assume_a=\"pos\", overwrite_a=True).T\n",
            "/usr/local/lib/python3.11/dist-packages/sklearn/linear_model/_ridge.py:215: LinAlgWarning: Ill-conditioned matrix (rcond=9.95298e-17): result may not be accurate.\n",
            "  return linalg.solve(A, Xy, assume_a=\"pos\", overwrite_a=True).T\n",
            "/usr/local/lib/python3.11/dist-packages/sklearn/linear_model/_ridge.py:215: LinAlgWarning: Ill-conditioned matrix (rcond=9.9506e-17): result may not be accurate.\n",
            "  return linalg.solve(A, Xy, assume_a=\"pos\", overwrite_a=True).T\n"
          ]
        },
        {
          "output_type": "stream",
          "name": "stdout",
          "text": [
            "Ridge(alpha=10.0)\n"
          ]
        }
      ]
    },
    {
      "cell_type": "code",
      "source": [
        "\n",
        "\n",
        "params_to_try = [0.01, 0.1, 1, 10, 100]\n",
        "\n",
        "pipe = Pipeline([\n",
        "    ('poly', PolynomialFeatures(degree=2, include_bias=False)),\n",
        "    ('scaler', StandardScaler()),\n",
        "    ('model', Ridge(alpha=10))\n",
        "])\n",
        "\n",
        "pipe.fit(X_train, y_train)\n",
        "preds = pipe.predict(X_test)\n",
        "mse = mean_squared_error(y_test, preds)\n",
        "print(mse)\n",
        "\n",
        "r2_test = r2_score(y_test, preds)\n",
        "print(r2_test)"
      ],
      "metadata": {
        "colab": {
          "base_uri": "https://localhost:8080/"
        },
        "id": "J0G6fKEzcn7J",
        "outputId": "d6ec540e-0b08-44ff-95b4-d1d6c56beebf"
      },
      "execution_count": 55,
      "outputs": [
        {
          "output_type": "stream",
          "name": "stdout",
          "text": [
            "64721814.32004122\n",
            "0.6041221767673524\n"
          ]
        }
      ]
    },
    {
      "cell_type": "markdown",
      "metadata": {
        "id": "oxyFuIuv2LwO"
      },
      "source": [
        "### Evaluation\n",
        "\n",
        "With some modeling accomplished, we aim to reflect on what we identify as a high-quality model and what we are able to learn from this.  We should review our business objective and explore how well we can provide meaningful insight into drivers of used car prices.  Your goal now is to distill your findings and determine whether the earlier phases need revisitation and adjustment or if you have information of value to bring back to your client."
      ]
    },
    {
      "cell_type": "markdown",
      "source": [
        "# Introduction:\n",
        "\n",
        "The goal of this analysis was to predict the price of used cars based on various features available in the dataset. The dataset contains features such as year, mileage, and other relevant characteristics of the cars. Our primary focus was to evaluate how different factors impact the price of used cars and assess the performance of linear and ridge regression models in predicting car prices.\n",
        "\n",
        "# Data Preparation and Preprocessing:\n",
        "\n",
        "Data Exploration:**\n",
        "\n",
        "*   Explored data : Analysed and explored the data set and tried to understand the\n",
        "domain and business usecase.\n",
        "*   Analyze Missing Values: Identified missing values in the odometer column, which were replaced by the mean odometer reading for each car year. We also checked for other missing values across the dataset and dropped irrelevant columns (id, VIN, size) that contained excessive missing data or were non-predictive.\n",
        "*   Converted Columns to Appropriate Types: Convert object etc types to appropriate type\n",
        "*   Handled missing data : Applied multiple ways to handle missing data. State utilized region data for missing value. Ordinal fields like condition/cylinders were set with 'unknown' tag for null values. Columns with large amount of missing date were dropped from analysis. Transmission column had 77% automatic value, this was set to null as well. For missing odometer, the mean of the mileage from corresponding year was used.\n",
        "*   Check for Outliers: To detect outliers, visualized key features (price, odometer, year) using box plots. Outliers were identified as values that fell outside the typical range, such as unusually high prices or mileage. Q1-1.5 IQR --- Q3+1.5 IQR was applied on price column to exclude outliers. These preprocessing steps ensured the dataset was clean, with missing values and outliers appropriately handled, making it ready for model building.\n",
        "*    Feature Engineering and Encoding: Categorical Encoding: Used One-Hot Encoding and James-Stein encoding to encode categorical values to numerical columns. Ordinal fields like conditions, cylinders were encoded with 1,2,3,4.\n",
        "*    Scale data : Used StandardScalar() for scaling the data\n",
        "\n",
        "# Model Building:\n",
        "\n",
        "Created two models to predict the price of used cars:\n",
        "\n",
        "*    Linear Regression: A linear regression model was created to predict car prices using all the features. The linear regression algorithm assumes a linear relationship between the input features and the target price. The model was trained and evaluated using cross-validation to ensure a robust assessment.\n",
        "*    Ridge Regression: To address potential multicollinearity issues (where features might be correlated with each other), we used Ridge Regression. This model applies L2 regularization to prevent overfitting by shrinking the coefficients of correlated features. We performed hyperparameter tuning using GridSearchCV to find the optimal value of alpha, which controls the strength of the regularization.\n",
        "The models were evaluated using various metrics, including the Mean Squared Error (MSE) and R-squared (R²). Here's a summary of the performance evaluation:\n",
        "\n",
        "**Linear Regression Model:** MSE (Mean Squared Error): The MSE was calculated to measure the average squared difference between the observed actual outcomes and the model's predictions. R² (R-squared): The R² score tells us how well the model explains the variance in the data. A higher R² value indicates a better fit of the model to the data. \\\n",
        "MSE = 60856811.91417967 \\\n",
        "R² = 62.776 \\\n",
        "**Ridge Regression Model:** MSE and R²: After tuning the alpha hyperparameter using GridSearchCV, the Ridge regression model performed similarly to the linear regression model but with a slightly better ability to generalize to unseen data due to the regularization effect. The optimal value of alpha was found to be around 10, indicating a good balance between fitting the data and controlling overfitting. \\\n",
        "MSE = 64721814.32004122 \\\n",
        "R² = 60.41\n",
        "\n",
        "These models can be used to predict the price for a new car with given features.\n",
        "\n",
        "# Key Insights:\n",
        "\n",
        "*    Observed a positive correlation between the year and price: As the year of a car increases, so does its price. This suggests that newer cars generally have a higher value compared to older cars.\n",
        "*    Noticed a negative correlation between mileage and price: As the mileage (or odometer reading) increases, the price of the car tends to decrease. This aligns with the intuition that cars with more miles driven are generally worth less.\n",
        "*    Cars in better condition has higher demand\n",
        "*    Clean title status has high demand among customers than others\n",
        "*    Type of car sedan/suv also impacts the price of the car\n",
        "\n",
        "# Conclusion:\n",
        "\n",
        "Based on the analysis and model evaluations, the following conclusions can be drawn:\n",
        "\n",
        "*    The relationship between year and price, as well as between mileage and price, is consistent with real-world intuition and is well captured by both the linear and ridge regression models.\n",
        "*    Similar key insigts were drawn on mileage, condition , title_status, type etc to affect the price of the car\n",
        "*    While both models performed well, the Linear regression model provided slightly better results, making it more robust for this dataset.\n",
        "*    The model could be used to predict plausible selling price for a car\n",
        "*    Future improvements could involve exploring additional features (model) and experimenting with other regression models, such as Lasso or ElasticNet, which might offer further enhancements in predictive performance.\n",
        "Recommendations for Further Analysis:\n",
        "\n",
        "Feature Expansion:\n",
        "*    Incorporating additional features such as the car model, could improve the predictive power of the models.\n",
        "*    Better Preparation: We could involve better handling for null values with more advanced techniques which could improve the overall quality of the data set.\n",
        "*    Model Refinement: Experimenting with more advanced machine learning algorithms, such as decision trees or ensemble methods (Random Forest, Gradient Boosting), could provide a more complex and potentially higher-performing model.\n",
        "*    Outlier Detection: Further analysis on outliers in car prices and mileage could help improve model accuracy, as extreme values could skew predictions."
      ],
      "metadata": {
        "id": "YOgWde0Yg_Ju"
      }
    },
    {
      "cell_type": "markdown",
      "metadata": {
        "id": "0sJhmw_F2LwP"
      },
      "source": [
        "### Deployment\n",
        "\n",
        "Now that we've settled on our models and findings, it is time to deliver the information to the client.  You should organize your work as a basic report that details your primary findings.  Keep in mind that your audience is a group of used car dealers interested in fine-tuning their inventory."
      ]
    }
  ],
  "metadata": {
    "kernelspec": {
      "display_name": "Python 3",
      "language": "python",
      "name": "python3"
    },
    "language_info": {
      "codemirror_mode": {
        "name": "ipython",
        "version": 3
      },
      "file_extension": ".py",
      "mimetype": "text/x-python",
      "name": "python",
      "nbconvert_exporter": "python",
      "pygments_lexer": "ipython3",
      "version": "3.8.8"
    },
    "colab": {
      "provenance": []
    }
  },
  "nbformat": 4,
  "nbformat_minor": 0
}